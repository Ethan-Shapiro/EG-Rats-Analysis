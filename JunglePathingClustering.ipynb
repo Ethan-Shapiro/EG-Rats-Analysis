{
 "cells": [
  {
   "cell_type": "code",
   "execution_count": 1,
   "metadata": {},
   "outputs": [],
   "source": [
    "import numpy as np\n",
    "import pandas as pd\n",
    "import matplotlib.pyplot as plt\n",
    "import seaborn as sns\n",
    "import json\n",
    "from collections import defaultdict\n",
    "import os"
   ]
  },
  {
   "cell_type": "code",
   "execution_count": 11,
   "metadata": {},
   "outputs": [],
   "source": [
    "# Main Data Imports\n",
    "snapshot = pd.read_parquet('Data/snapshot_player_stats.parquet')\n",
    "player_stats = pd.read_parquet('Data/player_game_stats.parquet')"
   ]
  },
  {
   "cell_type": "code",
   "execution_count": 10,
   "metadata": {},
   "outputs": [
    {
     "data": {
      "text/html": [
       "<div>\n",
       "<style scoped>\n",
       "    .dataframe tbody tr th:only-of-type {\n",
       "        vertical-align: middle;\n",
       "    }\n",
       "\n",
       "    .dataframe tbody tr th {\n",
       "        vertical-align: top;\n",
       "    }\n",
       "\n",
       "    .dataframe thead th {\n",
       "        text-align: right;\n",
       "    }\n",
       "</style>\n",
       "<table border=\"1\" class=\"dataframe\">\n",
       "  <thead>\n",
       "    <tr style=\"text-align: right;\">\n",
       "      <th></th>\n",
       "      <th>game_urn</th>\n",
       "      <th>player_urn</th>\n",
       "      <th>seq_idx</th>\n",
       "      <th>event_date_time</th>\n",
       "      <th>game_time</th>\n",
       "      <th>winning_team</th>\n",
       "      <th>player</th>\n",
       "      <th>team_urn</th>\n",
       "      <th>team</th>\n",
       "      <th>champion</th>\n",
       "      <th>...</th>\n",
       "      <th>vision_score</th>\n",
       "      <th>total_damage_dealt_champions</th>\n",
       "      <th>total_damage_taken</th>\n",
       "      <th>item_1_id</th>\n",
       "      <th>item_2_id</th>\n",
       "      <th>item_3_id</th>\n",
       "      <th>item_4_id</th>\n",
       "      <th>item_5_id</th>\n",
       "      <th>item_6_id</th>\n",
       "      <th>item_7_id</th>\n",
       "    </tr>\n",
       "  </thead>\n",
       "  <tbody>\n",
       "    <tr>\n",
       "      <th>0</th>\n",
       "      <td>live:lol:riot:map:esportstmnt01-3373466</td>\n",
       "      <td>live:lol:riot:player:051c9431-16d0-3872-98c4-c...</td>\n",
       "      <td>16</td>\n",
       "      <td>2023-06-14 21:13:15.338000+00:00</td>\n",
       "      <td>138</td>\n",
       "      <td>None</td>\n",
       "      <td>Fudge</td>\n",
       "      <td>live:lol:riot:team:98767991877340524</td>\n",
       "      <td>C9</td>\n",
       "      <td>KSante</td>\n",
       "      <td>...</td>\n",
       "      <td>0.0</td>\n",
       "      <td>0.0</td>\n",
       "      <td>0.0</td>\n",
       "      <td>NaN</td>\n",
       "      <td>NaN</td>\n",
       "      <td>NaN</td>\n",
       "      <td>NaN</td>\n",
       "      <td>NaN</td>\n",
       "      <td>NaN</td>\n",
       "      <td>NaN</td>\n",
       "    </tr>\n",
       "  </tbody>\n",
       "</table>\n",
       "<p>1 rows × 37 columns</p>\n",
       "</div>"
      ],
      "text/plain": [
       "                                  game_urn  \\\n",
       "0  live:lol:riot:map:esportstmnt01-3373466   \n",
       "\n",
       "                                          player_urn  seq_idx  \\\n",
       "0  live:lol:riot:player:051c9431-16d0-3872-98c4-c...       16   \n",
       "\n",
       "                   event_date_time  game_time winning_team player  \\\n",
       "0 2023-06-14 21:13:15.338000+00:00        138         None  Fudge   \n",
       "\n",
       "                               team_urn team champion  ...  vision_score  \\\n",
       "0  live:lol:riot:team:98767991877340524   C9   KSante  ...           0.0   \n",
       "\n",
       "   total_damage_dealt_champions  total_damage_taken  item_1_id  item_2_id  \\\n",
       "0                           0.0                 0.0        NaN        NaN   \n",
       "\n",
       "   item_3_id  item_4_id  item_5_id  item_6_id  item_7_id  \n",
       "0        NaN        NaN        NaN        NaN        NaN  \n",
       "\n",
       "[1 rows x 37 columns]"
      ]
     },
     "execution_count": 10,
     "metadata": {},
     "output_type": "execute_result"
    }
   ],
   "source": [
    "snapshot.head(1)"
   ]
  },
  {
   "cell_type": "code",
   "execution_count": 4,
   "metadata": {},
   "outputs": [
    {
     "data": {
      "text/plain": [
       "Index(['game_urn', 'player_urn', 'seq_idx', 'event_date_time', 'game_time',\n",
       "       'winning_team', 'player', 'team_urn', 'team', 'champion', 'level',\n",
       "       'alive', 'health', 'current_gold', 'total_gold', 'gold_per_second',\n",
       "       'pos_x', 'pos_y', 'minions_killed', 'neutral_minions_killed',\n",
       "       'neutral_minions_killed_your_jungle',\n",
       "       'neutral_minions_killed_enemy_jungle', 'champs_killed', 'deaths',\n",
       "       'assists', 'wards_placed', 'wards_killed', 'vision_score',\n",
       "       'total_damage_dealt_champions', 'total_damage_taken', 'item_1_id',\n",
       "       'item_2_id', 'item_3_id', 'item_4_id', 'item_5_id', 'item_6_id',\n",
       "       'item_7_id'],\n",
       "      dtype='object')"
      ]
     },
     "execution_count": 4,
     "metadata": {},
     "output_type": "execute_result"
    }
   ],
   "source": [
    "snapshot.columns"
   ]
  },
  {
   "cell_type": "code",
   "execution_count": 40,
   "metadata": {},
   "outputs": [],
   "source": [
    "blabber_snapshots = snapshot[(snapshot['player'] == 'Blaber') & (snapshot['seq_idx'] <= 360)]"
   ]
  },
  {
   "cell_type": "code",
   "execution_count": 41,
   "metadata": {},
   "outputs": [
    {
     "data": {
      "text/plain": [
       "(10005, 37)"
      ]
     },
     "execution_count": 41,
     "metadata": {},
     "output_type": "execute_result"
    }
   ],
   "source": [
    "blabber_snapshots.shape"
   ]
  },
  {
   "cell_type": "code",
   "execution_count": 65,
   "metadata": {},
   "outputs": [
    {
     "data": {
      "text/plain": [
       "array(['live:lol:riot:map:esportstmnt01-3373466',\n",
       "       'live:lol:riot:map:esportstmnt01-3375039',\n",
       "       'live:lol:riot:map:esportstmnt01-3376646',\n",
       "       'live:lol:riot:map:esportstmnt01-3408908',\n",
       "       'live:lol:riot:map:esportstmnt01-3409908',\n",
       "       'live:lol:riot:map:esportstmnt01-3410017',\n",
       "       'live:lol:riot:map:esportstmnt01-3413353',\n",
       "       'live:lol:riot:map:esportstmnt01-3414314',\n",
       "       'live:lol:riot:map:esportstmnt01-3414318',\n",
       "       'live:lol:riot:map:esportstmnt01-3416273',\n",
       "       'live:lol:riot:map:esportstmnt01-3416274',\n",
       "       'live:lol:riot:map:esportstmnt01-3417173',\n",
       "       'live:lol:riot:map:esportstmnt01-3417177',\n",
       "       'live:lol:riot:map:esportstmnt02-3207804',\n",
       "       'live:lol:riot:map:esportstmnt02-3209643',\n",
       "       'live:lol:riot:map:esportstmnt02-3210080',\n",
       "       'live:lol:riot:map:esportstmnt02-3213623',\n",
       "       'live:lol:riot:map:esportstmnt02-3214865',\n",
       "       'live:lol:riot:map:esportstmnt02-3215315',\n",
       "       'live:lol:riot:map:esportstmnt03-3176763',\n",
       "       'live:lol:riot:map:esportstmnt03-3178542',\n",
       "       'live:lol:riot:map:esportstmnt03-3179121',\n",
       "       'live:lol:riot:map:esportstmnt03-3184735',\n",
       "       'live:lol:riot:map:esportstmnt03-3186073',\n",
       "       'live:lol:riot:map:esportstmnt03-3186454',\n",
       "       'live:lol:riot:map:esportstmnt03-3192653',\n",
       "       'live:lol:riot:map:esportstmnt03-3192931',\n",
       "       'live:lol:riot:map:esportstmnt03-3193364',\n",
       "       'live:lol:riot:map:esportstmnt03-3194842'], dtype=object)"
      ]
     },
     "execution_count": 65,
     "metadata": {},
     "output_type": "execute_result"
    }
   ],
   "source": [
    "c9_team_urn = player_stats[player_stats['team'] == 'C9']['game_urn'].unique()\n",
    "c9_team_urn"
   ]
  },
  {
   "cell_type": "code",
   "execution_count": 70,
   "metadata": {},
   "outputs": [
    {
     "data": {
      "text/plain": [
       "Index(['game_urn', 'player_urn', 'team_urn', 'region', 'game_start_datetime',\n",
       "       'best_of', 'curr_game', 'player', 'team', 'champion', 'side', 'role',\n",
       "       'opp_player_urn', 'opp_player', 'opp_team_urn', 'opp_team',\n",
       "       'opp_champion', 'result', 'kills', 'deaths', 'assists', 'double_kills',\n",
       "       'triple_kills', 'quad_kills', 'penta_kills', 'first_blood',\n",
       "       'avg_mins_between_kills', 'avg_mins_between_deaths', 'solo_kills',\n",
       "       'iso_deaths', 'minion_kills', 'neutral_minion_kills',\n",
       "       'neutral_minion_kills_team_jungle', 'neutral_minion_kills_enemy_jungle',\n",
       "       'perc_in_mid_lane', 'num_recalls', 'total_damage_teamfights',\n",
       "       'avg_damage_per_teamfight', 'dmg_to_champs_per_min',\n",
       "       'dmg_shielded_on_team_per_min', 'dmg_healed_on_team_per_min',\n",
       "       'total_gold', 'gold_at_15m', 'gold_diff_at_15m', 'wards_placed',\n",
       "       'wards_killed', 'vision_score', 'jungle_prox', 'duo_prox', 'team_perid',\n",
       "       'player_perid', 'opp_player_perid', 'opp_team_urn_perid', 'upsert_at',\n",
       "       'gold_at_20m', 'gold_diff_at_20m'],\n",
       "      dtype='object')"
      ]
     },
     "execution_count": 70,
     "metadata": {},
     "output_type": "execute_result"
    }
   ],
   "source": [
    "player_stats.columns"
   ]
  },
  {
   "cell_type": "code",
   "execution_count": 68,
   "metadata": {},
   "outputs": [
    {
     "ename": "KeyError",
     "evalue": "'match_urn'",
     "output_type": "error",
     "traceback": [
      "\u001b[1;31m---------------------------------------------------------------------------\u001b[0m",
      "\u001b[1;31mKeyError\u001b[0m                                  Traceback (most recent call last)",
      "File \u001b[1;32mc:\\Repository\\EG-Rats-Analysis\\env\\Lib\\site-packages\\pandas\\core\\indexes\\base.py:3790\u001b[0m, in \u001b[0;36mIndex.get_loc\u001b[1;34m(self, key)\u001b[0m\n\u001b[0;32m   3789\u001b[0m \u001b[39mtry\u001b[39;00m:\n\u001b[1;32m-> 3790\u001b[0m     \u001b[39mreturn\u001b[39;00m \u001b[39mself\u001b[39;49m\u001b[39m.\u001b[39;49m_engine\u001b[39m.\u001b[39;49mget_loc(casted_key)\n\u001b[0;32m   3791\u001b[0m \u001b[39mexcept\u001b[39;00m \u001b[39mKeyError\u001b[39;00m \u001b[39mas\u001b[39;00m err:\n",
      "File \u001b[1;32mindex.pyx:152\u001b[0m, in \u001b[0;36mpandas._libs.index.IndexEngine.get_loc\u001b[1;34m()\u001b[0m\n",
      "File \u001b[1;32mindex.pyx:181\u001b[0m, in \u001b[0;36mpandas._libs.index.IndexEngine.get_loc\u001b[1;34m()\u001b[0m\n",
      "File \u001b[1;32mpandas\\_libs\\hashtable_class_helper.pxi:7080\u001b[0m, in \u001b[0;36mpandas._libs.hashtable.PyObjectHashTable.get_item\u001b[1;34m()\u001b[0m\n",
      "File \u001b[1;32mpandas\\_libs\\hashtable_class_helper.pxi:7088\u001b[0m, in \u001b[0;36mpandas._libs.hashtable.PyObjectHashTable.get_item\u001b[1;34m()\u001b[0m\n",
      "\u001b[1;31mKeyError\u001b[0m: 'match_urn'",
      "\nThe above exception was the direct cause of the following exception:\n",
      "\u001b[1;31mKeyError\u001b[0m                                  Traceback (most recent call last)",
      "\u001b[1;32mc:\\Repository\\EG-Rats-Analysis\\JunglePathingClustering.ipynb Cell 8\u001b[0m line \u001b[0;36m1\n\u001b[1;32m----> <a href='vscode-notebook-cell:/c%3A/Repository/EG-Rats-Analysis/JunglePathingClustering.ipynb#X35sZmlsZQ%3D%3D?line=0'>1</a>\u001b[0m c9_team_urn \u001b[39m=\u001b[39m player_stats[player_stats[\u001b[39m'\u001b[39;49m\u001b[39mopp_team\u001b[39;49m\u001b[39m'\u001b[39;49m] \u001b[39m==\u001b[39;49m \u001b[39m'\u001b[39;49m\u001b[39mC9\u001b[39;49m\u001b[39m'\u001b[39;49m][\u001b[39m'\u001b[39;49m\u001b[39mmatch_urn\u001b[39;49m\u001b[39m'\u001b[39;49m]\u001b[39m.\u001b[39munique()\n",
      "File \u001b[1;32mc:\\Repository\\EG-Rats-Analysis\\env\\Lib\\site-packages\\pandas\\core\\frame.py:3896\u001b[0m, in \u001b[0;36mDataFrame.__getitem__\u001b[1;34m(self, key)\u001b[0m\n\u001b[0;32m   3894\u001b[0m \u001b[39mif\u001b[39;00m \u001b[39mself\u001b[39m\u001b[39m.\u001b[39mcolumns\u001b[39m.\u001b[39mnlevels \u001b[39m>\u001b[39m \u001b[39m1\u001b[39m:\n\u001b[0;32m   3895\u001b[0m     \u001b[39mreturn\u001b[39;00m \u001b[39mself\u001b[39m\u001b[39m.\u001b[39m_getitem_multilevel(key)\n\u001b[1;32m-> 3896\u001b[0m indexer \u001b[39m=\u001b[39m \u001b[39mself\u001b[39;49m\u001b[39m.\u001b[39;49mcolumns\u001b[39m.\u001b[39;49mget_loc(key)\n\u001b[0;32m   3897\u001b[0m \u001b[39mif\u001b[39;00m is_integer(indexer):\n\u001b[0;32m   3898\u001b[0m     indexer \u001b[39m=\u001b[39m [indexer]\n",
      "File \u001b[1;32mc:\\Repository\\EG-Rats-Analysis\\env\\Lib\\site-packages\\pandas\\core\\indexes\\base.py:3797\u001b[0m, in \u001b[0;36mIndex.get_loc\u001b[1;34m(self, key)\u001b[0m\n\u001b[0;32m   3792\u001b[0m     \u001b[39mif\u001b[39;00m \u001b[39misinstance\u001b[39m(casted_key, \u001b[39mslice\u001b[39m) \u001b[39mor\u001b[39;00m (\n\u001b[0;32m   3793\u001b[0m         \u001b[39misinstance\u001b[39m(casted_key, abc\u001b[39m.\u001b[39mIterable)\n\u001b[0;32m   3794\u001b[0m         \u001b[39mand\u001b[39;00m \u001b[39many\u001b[39m(\u001b[39misinstance\u001b[39m(x, \u001b[39mslice\u001b[39m) \u001b[39mfor\u001b[39;00m x \u001b[39min\u001b[39;00m casted_key)\n\u001b[0;32m   3795\u001b[0m     ):\n\u001b[0;32m   3796\u001b[0m         \u001b[39mraise\u001b[39;00m InvalidIndexError(key)\n\u001b[1;32m-> 3797\u001b[0m     \u001b[39mraise\u001b[39;00m \u001b[39mKeyError\u001b[39;00m(key) \u001b[39mfrom\u001b[39;00m \u001b[39merr\u001b[39;00m\n\u001b[0;32m   3798\u001b[0m \u001b[39mexcept\u001b[39;00m \u001b[39mTypeError\u001b[39;00m:\n\u001b[0;32m   3799\u001b[0m     \u001b[39m# If we have a listlike key, _check_indexing_error will raise\u001b[39;00m\n\u001b[0;32m   3800\u001b[0m     \u001b[39m#  InvalidIndexError. Otherwise we fall through and re-raise\u001b[39;00m\n\u001b[0;32m   3801\u001b[0m     \u001b[39m#  the TypeError.\u001b[39;00m\n\u001b[0;32m   3802\u001b[0m     \u001b[39mself\u001b[39m\u001b[39m.\u001b[39m_check_indexing_error(key)\n",
      "\u001b[1;31mKeyError\u001b[0m: 'match_urn'"
     ]
    }
   ],
   "source": [
    "c9_team_urn = player_stats[player_stats['opp_team'] == 'C9']['match_urn'].unique()"
   ]
  },
  {
   "cell_type": "code",
   "execution_count": 66,
   "metadata": {},
   "outputs": [
    {
     "ename": "ValueError",
     "evalue": "('Lengths must match to compare', (570,), (29,))",
     "output_type": "error",
     "traceback": [
      "\u001b[1;31m---------------------------------------------------------------------------\u001b[0m",
      "\u001b[1;31mValueError\u001b[0m                                Traceback (most recent call last)",
      "\u001b[1;32mc:\\Repository\\EG-Rats-Analysis\\JunglePathingClustering.ipynb Cell 8\u001b[0m line \u001b[0;36m1\n\u001b[1;32m----> <a href='vscode-notebook-cell:/c%3A/Repository/EG-Rats-Analysis/JunglePathingClustering.ipynb#X32sZmlsZQ%3D%3D?line=0'>1</a>\u001b[0m player_stats[player_stats[\u001b[39m'\u001b[39;49m\u001b[39mopp_team_urn\u001b[39;49m\u001b[39m'\u001b[39;49m] \u001b[39m==\u001b[39;49m c9_team_urn][\u001b[39m'\u001b[39m\u001b[39mgame_urn\u001b[39m\u001b[39m'\u001b[39m]\u001b[39m.\u001b[39munique()\n",
      "File \u001b[1;32mc:\\Repository\\EG-Rats-Analysis\\env\\Lib\\site-packages\\pandas\\core\\ops\\common.py:76\u001b[0m, in \u001b[0;36m_unpack_zerodim_and_defer.<locals>.new_method\u001b[1;34m(self, other)\u001b[0m\n\u001b[0;32m     72\u001b[0m             \u001b[39mreturn\u001b[39;00m \u001b[39mNotImplemented\u001b[39m\n\u001b[0;32m     74\u001b[0m other \u001b[39m=\u001b[39m item_from_zerodim(other)\n\u001b[1;32m---> 76\u001b[0m \u001b[39mreturn\u001b[39;00m method(\u001b[39mself\u001b[39;49m, other)\n",
      "File \u001b[1;32mc:\\Repository\\EG-Rats-Analysis\\env\\Lib\\site-packages\\pandas\\core\\arraylike.py:40\u001b[0m, in \u001b[0;36mOpsMixin.__eq__\u001b[1;34m(self, other)\u001b[0m\n\u001b[0;32m     38\u001b[0m \u001b[39m@unpack_zerodim_and_defer\u001b[39m(\u001b[39m\"\u001b[39m\u001b[39m__eq__\u001b[39m\u001b[39m\"\u001b[39m)\n\u001b[0;32m     39\u001b[0m \u001b[39mdef\u001b[39;00m \u001b[39m__eq__\u001b[39m(\u001b[39mself\u001b[39m, other):\n\u001b[1;32m---> 40\u001b[0m     \u001b[39mreturn\u001b[39;00m \u001b[39mself\u001b[39;49m\u001b[39m.\u001b[39;49m_cmp_method(other, operator\u001b[39m.\u001b[39;49meq)\n",
      "File \u001b[1;32mc:\\Repository\\EG-Rats-Analysis\\env\\Lib\\site-packages\\pandas\\core\\series.py:5799\u001b[0m, in \u001b[0;36mSeries._cmp_method\u001b[1;34m(self, other, op)\u001b[0m\n\u001b[0;32m   5796\u001b[0m lvalues \u001b[39m=\u001b[39m \u001b[39mself\u001b[39m\u001b[39m.\u001b[39m_values\n\u001b[0;32m   5797\u001b[0m rvalues \u001b[39m=\u001b[39m extract_array(other, extract_numpy\u001b[39m=\u001b[39m\u001b[39mTrue\u001b[39;00m, extract_range\u001b[39m=\u001b[39m\u001b[39mTrue\u001b[39;00m)\n\u001b[1;32m-> 5799\u001b[0m res_values \u001b[39m=\u001b[39m ops\u001b[39m.\u001b[39;49mcomparison_op(lvalues, rvalues, op)\n\u001b[0;32m   5801\u001b[0m \u001b[39mreturn\u001b[39;00m \u001b[39mself\u001b[39m\u001b[39m.\u001b[39m_construct_result(res_values, name\u001b[39m=\u001b[39mres_name)\n",
      "File \u001b[1;32mc:\\Repository\\EG-Rats-Analysis\\env\\Lib\\site-packages\\pandas\\core\\ops\\array_ops.py:323\u001b[0m, in \u001b[0;36mcomparison_op\u001b[1;34m(left, right, op)\u001b[0m\n\u001b[0;32m    318\u001b[0m \u001b[39mif\u001b[39;00m \u001b[39misinstance\u001b[39m(rvalues, (np\u001b[39m.\u001b[39mndarray, ABCExtensionArray)):\n\u001b[0;32m    319\u001b[0m     \u001b[39m# TODO: make this treatment consistent across ops and classes.\u001b[39;00m\n\u001b[0;32m    320\u001b[0m     \u001b[39m#  We are not catching all listlikes here (e.g. frozenset, tuple)\u001b[39;00m\n\u001b[0;32m    321\u001b[0m     \u001b[39m#  The ambiguous case is object-dtype.  See GH#27803\u001b[39;00m\n\u001b[0;32m    322\u001b[0m     \u001b[39mif\u001b[39;00m \u001b[39mlen\u001b[39m(lvalues) \u001b[39m!=\u001b[39m \u001b[39mlen\u001b[39m(rvalues):\n\u001b[1;32m--> 323\u001b[0m         \u001b[39mraise\u001b[39;00m \u001b[39mValueError\u001b[39;00m(\n\u001b[0;32m    324\u001b[0m             \u001b[39m\"\u001b[39m\u001b[39mLengths must match to compare\u001b[39m\u001b[39m\"\u001b[39m, lvalues\u001b[39m.\u001b[39mshape, rvalues\u001b[39m.\u001b[39mshape\n\u001b[0;32m    325\u001b[0m         )\n\u001b[0;32m    327\u001b[0m \u001b[39mif\u001b[39;00m should_extension_dispatch(lvalues, rvalues) \u001b[39mor\u001b[39;00m (\n\u001b[0;32m    328\u001b[0m     (\u001b[39misinstance\u001b[39m(rvalues, (Timedelta, BaseOffset, Timestamp)) \u001b[39mor\u001b[39;00m right \u001b[39mis\u001b[39;00m NaT)\n\u001b[0;32m    329\u001b[0m     \u001b[39mand\u001b[39;00m lvalues\u001b[39m.\u001b[39mdtype \u001b[39m!=\u001b[39m \u001b[39mobject\u001b[39m\n\u001b[0;32m    330\u001b[0m ):\n\u001b[0;32m    331\u001b[0m     \u001b[39m# Call the method on lvalues\u001b[39;00m\n\u001b[0;32m    332\u001b[0m     res_values \u001b[39m=\u001b[39m op(lvalues, rvalues)\n",
      "\u001b[1;31mValueError\u001b[0m: ('Lengths must match to compare', (570,), (29,))"
     ]
    }
   ],
   "source": [
    "player_stats[player_stats['opp_team_urn'] == c9_team_urn]['game_urn'].unique()"
   ]
  },
  {
   "cell_type": "code",
   "execution_count": 59,
   "metadata": {},
   "outputs": [],
   "source": [
    "blue_side_games = player_stats[player_stats['team_urn'] == c9_team_urn]['game_urn']\n",
    "red_side_games = player_stats[player_stats['opp_team_urn'] == c9_team_urn]['game_urn']"
   ]
  },
  {
   "cell_type": "code",
   "execution_count": 52,
   "metadata": {},
   "outputs": [
    {
     "data": {
      "text/html": [
       "<div>\n",
       "<style scoped>\n",
       "    .dataframe tbody tr th:only-of-type {\n",
       "        vertical-align: middle;\n",
       "    }\n",
       "\n",
       "    .dataframe tbody tr th {\n",
       "        vertical-align: top;\n",
       "    }\n",
       "\n",
       "    .dataframe thead th {\n",
       "        text-align: right;\n",
       "    }\n",
       "</style>\n",
       "<table border=\"1\" class=\"dataframe\">\n",
       "  <thead>\n",
       "    <tr style=\"text-align: right;\">\n",
       "      <th></th>\n",
       "      <th>game_urn</th>\n",
       "    </tr>\n",
       "  </thead>\n",
       "  <tbody>\n",
       "    <tr>\n",
       "      <th>0</th>\n",
       "      <td>live:lol:riot:map:esportstmnt01-3373466</td>\n",
       "    </tr>\n",
       "    <tr>\n",
       "      <th>6</th>\n",
       "      <td>live:lol:riot:map:esportstmnt01-3373466</td>\n",
       "    </tr>\n",
       "    <tr>\n",
       "      <th>7</th>\n",
       "      <td>live:lol:riot:map:esportstmnt01-3373466</td>\n",
       "    </tr>\n",
       "    <tr>\n",
       "      <th>8</th>\n",
       "      <td>live:lol:riot:map:esportstmnt01-3373466</td>\n",
       "    </tr>\n",
       "    <tr>\n",
       "      <th>9</th>\n",
       "      <td>live:lol:riot:map:esportstmnt01-3373466</td>\n",
       "    </tr>\n",
       "    <tr>\n",
       "      <th>...</th>\n",
       "      <td>...</td>\n",
       "    </tr>\n",
       "    <tr>\n",
       "      <th>550</th>\n",
       "      <td>live:lol:riot:map:esportstmnt03-3194842</td>\n",
       "    </tr>\n",
       "    <tr>\n",
       "      <th>551</th>\n",
       "      <td>live:lol:riot:map:esportstmnt03-3194842</td>\n",
       "    </tr>\n",
       "    <tr>\n",
       "      <th>552</th>\n",
       "      <td>live:lol:riot:map:esportstmnt03-3194842</td>\n",
       "    </tr>\n",
       "    <tr>\n",
       "      <th>553</th>\n",
       "      <td>live:lol:riot:map:esportstmnt03-3194842</td>\n",
       "    </tr>\n",
       "    <tr>\n",
       "      <th>554</th>\n",
       "      <td>live:lol:riot:map:esportstmnt03-3194842</td>\n",
       "    </tr>\n",
       "  </tbody>\n",
       "</table>\n",
       "<p>145 rows × 1 columns</p>\n",
       "</div>"
      ],
      "text/plain": [
       "                                    game_urn\n",
       "0    live:lol:riot:map:esportstmnt01-3373466\n",
       "6    live:lol:riot:map:esportstmnt01-3373466\n",
       "7    live:lol:riot:map:esportstmnt01-3373466\n",
       "8    live:lol:riot:map:esportstmnt01-3373466\n",
       "9    live:lol:riot:map:esportstmnt01-3373466\n",
       "..                                       ...\n",
       "550  live:lol:riot:map:esportstmnt03-3194842\n",
       "551  live:lol:riot:map:esportstmnt03-3194842\n",
       "552  live:lol:riot:map:esportstmnt03-3194842\n",
       "553  live:lol:riot:map:esportstmnt03-3194842\n",
       "554  live:lol:riot:map:esportstmnt03-3194842\n",
       "\n",
       "[145 rows x 1 columns]"
      ]
     },
     "execution_count": 52,
     "metadata": {},
     "output_type": "execute_result"
    }
   ],
   "source": [
    "red_side_games"
   ]
  },
  {
   "cell_type": "code",
   "execution_count": 51,
   "metadata": {},
   "outputs": [
    {
     "data": {
      "text/plain": [
       "1          True\n",
       "11         True\n",
       "21         True\n",
       "31         True\n",
       "41         True\n",
       "           ... \n",
       "3703936    True\n",
       "3703946    True\n",
       "3703956    True\n",
       "3703966    True\n",
       "3703976    True\n",
       "Name: game_urn, Length: 10005, dtype: bool"
      ]
     },
     "execution_count": 51,
     "metadata": {},
     "output_type": "execute_result"
    }
   ],
   "source": [
    "blabber_snapshots['game_urn'].isin(red_side_games['game_urn'])"
   ]
  },
  {
   "cell_type": "code",
   "execution_count": 75,
   "metadata": {},
   "outputs": [
    {
     "data": {
      "text/plain": [
       "Index(['game_urn', 'player_urn', 'seq_idx', 'event_date_time', 'game_time',\n",
       "       'winning_team', 'player', 'team_urn', 'team', 'champion', 'level',\n",
       "       'alive', 'health', 'current_gold', 'total_gold', 'gold_per_second',\n",
       "       'pos_x', 'pos_y', 'minions_killed', 'neutral_minions_killed',\n",
       "       'neutral_minions_killed_your_jungle',\n",
       "       'neutral_minions_killed_enemy_jungle', 'champs_killed', 'deaths',\n",
       "       'assists', 'wards_placed', 'wards_killed', 'vision_score',\n",
       "       'total_damage_dealt_champions', 'total_damage_taken', 'item_1_id',\n",
       "       'item_2_id', 'item_3_id', 'item_4_id', 'item_5_id', 'item_6_id',\n",
       "       'item_7_id', 'side'],\n",
       "      dtype='object')"
      ]
     },
     "execution_count": 75,
     "metadata": {},
     "output_type": "execute_result"
    }
   ],
   "source": [
    "blabber_snapshots.columns"
   ]
  },
  {
   "cell_type": "code",
   "execution_count": 44,
   "metadata": {},
   "outputs": [
    {
     "name": "stderr",
     "output_type": "stream",
     "text": [
      "C:\\Users\\Ethan\\AppData\\Local\\Temp\\ipykernel_22288\\2093071840.py:1: SettingWithCopyWarning: \n",
      "A value is trying to be set on a copy of a slice from a DataFrame.\n",
      "Try using .loc[row_indexer,col_indexer] = value instead\n",
      "\n",
      "See the caveats in the documentation: https://pandas.pydata.org/pandas-docs/stable/user_guide/indexing.html#returning-a-view-versus-a-copy\n",
      "  blabber_snapshots['side'] = 'blue'\n"
     ]
    }
   ],
   "source": [
    "blabber_snapshots['side'] = 'blue'\n",
    "blabber_snapshots.loc[blabber_snapshots['game_urn'].isin(red_side_games['game_urn']), 'side'] = 'red'"
   ]
  },
  {
   "cell_type": "code",
   "execution_count": 48,
   "metadata": {},
   "outputs": [
    {
     "data": {
      "application/vnd.jupyter.widget-view+json": {
       "model_id": "8e91ad39b1d9432395457524ec104922",
       "version_major": 2,
       "version_minor": 0
      },
      "text/plain": [
       "interactive(children=(Dropdown(description='Champion:', options=('Kindred', 'Khazix', 'Sejuani', 'Maokai', 'Re…"
      ]
     },
     "metadata": {},
     "output_type": "display_data"
    }
   ],
   "source": [
    "from ipywidgets import interactive, widgets\n",
    "\n",
    "# Load the image\n",
    "lol_map = plt.imread(\"minimap.png\")\n",
    "\n",
    "def generate_jungle_path_plot(champion, side, seq_idx, data):\n",
    "    # Set the dimensions of the LoL map for proper overlay\n",
    "    extent = [0, 16_000, 0, 16_000]  # values based on your provided dimensions\n",
    "    \n",
    "    # Filter data based on champion\n",
    "    champ_data = data[data['champion'] == champion]\n",
    "    \n",
    "    # Filter data up to the given timestamp\n",
    "    champ_data = champ_data[champ_data['seq_idx'] <= seq_idx]  # assuming timestamp is in minutes\n",
    "    \n",
    "    # Filter based on the selected side\n",
    "    if side != 'both':\n",
    "        champ_data = champ_data[champ_data['side'] == side]\n",
    "    \n",
    "    plt.figure(figsize=(12, 12))\n",
    "    \n",
    "    # Display the map image\n",
    "    plt.imshow(lol_map, extent=extent)\n",
    "    \n",
    "    # Plot paths\n",
    "    for side in champ_data['side'].unique():\n",
    "        side_data = champ_data[champ_data['side'] == side]\n",
    "        plt.plot(side_data['pos_x'], side_data['pos_y'], label=f\"{champion} - {side}\", color='red')\n",
    "    \n",
    "    plt.legend()\n",
    "    plt.title(f\"Jungle Path for {champion}\")\n",
    "    plt.xlabel('X Coordinate')\n",
    "    plt.ylabel('Y Coordinate')\n",
    "    plt.show()\n",
    "\n",
    "def interactive_jungle_path(champion, side, timestamp):\n",
    "    return generate_jungle_path_plot(champion, side, timestamp, blabber_snapshots)\n",
    "\n",
    "# Unique champions in the dataset\n",
    "champions = blabber_snapshots['champion'].unique()\n",
    "\n",
    "# Set up the interactive element:\n",
    "widget = interactive(interactive_jungle_path, \n",
    "                     champion=widgets.Dropdown(options=champions, description='Champion:'),\n",
    "                     side=widgets.Dropdown(options=['blue', 'red', 'both'], value='both', description='Side:'),\n",
    "                     timestamp=widgets.IntSlider(value=16, min=16, max=360, step=1, description='Seq Id:'))  # Adjust max time as needed\n",
    "\n",
    "display(widget)\n"
   ]
  },
  {
   "cell_type": "code",
   "execution_count": null,
   "metadata": {},
   "outputs": [],
   "source": []
  }
 ],
 "metadata": {
  "kernelspec": {
   "display_name": "env",
   "language": "python",
   "name": "python3"
  },
  "language_info": {
   "codemirror_mode": {
    "name": "ipython",
    "version": 3
   },
   "file_extension": ".py",
   "mimetype": "text/x-python",
   "name": "python",
   "nbconvert_exporter": "python",
   "pygments_lexer": "ipython3",
   "version": "3.11.5"
  }
 },
 "nbformat": 4,
 "nbformat_minor": 2
}
