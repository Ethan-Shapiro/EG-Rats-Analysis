{
 "cells": [
  {
   "cell_type": "markdown",
   "metadata": {},
   "source": [
    "Different Statistics that might be useful:\n",
    "\n",
    "Ward locations during early game (mid/late don't seem to be that important from watching analysis): clustering\n",
    "\n",
    "Jungle Pathing tendencies: Clustering/?\n",
    "\n",
    "Any movement patterns from support, mid, top\n",
    "\n",
    "Drafting Patterns: Standard ML multiclass classification\n",
    "\n",
    "Red side vs blue side strategies"
   ]
  },
  {
   "cell_type": "code",
   "execution_count": 1,
   "metadata": {},
   "outputs": [],
   "source": [
    "import numpy as np\n",
    "import pandas as pd\n",
    "import matplotlib.pyplot as plt\n",
    "from matplotlib.offsetbox import OffsetImage, AnnotationBbox\n",
    "from PIL import Image\n",
    "import plotly.express as px\n",
    "import plotly.graph_objects as go\n",
    "import seaborn as sns\n",
    "from ipywidgets import interact, interactive"
   ]
  },
  {
   "cell_type": "code",
   "execution_count": 2,
   "metadata": {},
   "outputs": [],
   "source": [
    "game_summary = pd.read_parquet('Data/game_summary.parquet')\n",
    "objective = pd.read_parquet('Data/objective_kills.parquet')\n",
    "player_game_stats = pd.read_parquet('Data/player_game_stats.parquet')\n",
    "snapshot_stats = pd.read_parquet('Data/snapshot_player_stats.parquet')\n",
    "wards = pd.read_parquet('Data/wards_placed.parquet')"
   ]
  },
  {
   "cell_type": "code",
   "execution_count": 3,
   "metadata": {},
   "outputs": [
    {
     "data": {
      "text/plain": [
       "(57, 62)"
      ]
     },
     "execution_count": 3,
     "metadata": {},
     "output_type": "execute_result"
    }
   ],
   "source": [
    "game_summary.shape"
   ]
  },
  {
   "cell_type": "code",
   "execution_count": 4,
   "metadata": {},
   "outputs": [
    {
     "data": {
      "text/html": [
       "<div>\n",
       "<style scoped>\n",
       "    .dataframe tbody tr th:only-of-type {\n",
       "        vertical-align: middle;\n",
       "    }\n",
       "\n",
       "    .dataframe tbody tr th {\n",
       "        vertical-align: top;\n",
       "    }\n",
       "\n",
       "    .dataframe thead th {\n",
       "        text-align: right;\n",
       "    }\n",
       "</style>\n",
       "<table border=\"1\" class=\"dataframe\">\n",
       "  <thead>\n",
       "    <tr style=\"text-align: right;\">\n",
       "      <th></th>\n",
       "      <th>game_urn</th>\n",
       "      <th>match_perid</th>\n",
       "      <th>region</th>\n",
       "      <th>game_start_date_time</th>\n",
       "      <th>series_type</th>\n",
       "      <th>series_max</th>\n",
       "      <th>series_curr</th>\n",
       "      <th>team_1_urn</th>\n",
       "      <th>team_1_name</th>\n",
       "      <th>team_1_side</th>\n",
       "      <th>...</th>\n",
       "      <th>team_2_top_pick_num</th>\n",
       "      <th>team_2_jng</th>\n",
       "      <th>team_2_jng_pick_num</th>\n",
       "      <th>team_2_mid</th>\n",
       "      <th>team_2_mid_pick_num</th>\n",
       "      <th>team_2_bot</th>\n",
       "      <th>team_2_bot_pick_num</th>\n",
       "      <th>team_2_sup</th>\n",
       "      <th>team_2_sup_pick_num</th>\n",
       "      <th>game_version</th>\n",
       "    </tr>\n",
       "  </thead>\n",
       "  <tbody>\n",
       "    <tr>\n",
       "      <th>0</th>\n",
       "      <td>live:lol:riot:map:esportstmnt01-3373466</td>\n",
       "      <td>esports:match:c8b9a529-2453-4789-8300-ae4173e4...</td>\n",
       "      <td>LCS</td>\n",
       "      <td>2023-06-14 21:13:15.338000+00:00</td>\n",
       "      <td>BEST_OF</td>\n",
       "      <td>1</td>\n",
       "      <td>1</td>\n",
       "      <td>live:lol:riot:team:98767991877340524</td>\n",
       "      <td>C9</td>\n",
       "      <td>blue</td>\n",
       "      <td>...</td>\n",
       "      <td>10</td>\n",
       "      <td>Jax</td>\n",
       "      <td>7</td>\n",
       "      <td>Ahri</td>\n",
       "      <td>3</td>\n",
       "      <td>Lucian</td>\n",
       "      <td>2</td>\n",
       "      <td>Nami</td>\n",
       "      <td>6</td>\n",
       "      <td>13.11.512.8126</td>\n",
       "    </tr>\n",
       "  </tbody>\n",
       "</table>\n",
       "<p>1 rows × 62 columns</p>\n",
       "</div>"
      ],
      "text/plain": [
       "                                  game_urn  \\\n",
       "0  live:lol:riot:map:esportstmnt01-3373466   \n",
       "\n",
       "                                         match_perid region  \\\n",
       "0  esports:match:c8b9a529-2453-4789-8300-ae4173e4...    LCS   \n",
       "\n",
       "              game_start_date_time series_type  series_max  series_curr  \\\n",
       "0 2023-06-14 21:13:15.338000+00:00     BEST_OF           1            1   \n",
       "\n",
       "                             team_1_urn team_1_name team_1_side  ...  \\\n",
       "0  live:lol:riot:team:98767991877340524          C9        blue  ...   \n",
       "\n",
       "  team_2_top_pick_num team_2_jng team_2_jng_pick_num team_2_mid  \\\n",
       "0                  10        Jax                   7       Ahri   \n",
       "\n",
       "  team_2_mid_pick_num team_2_bot  team_2_bot_pick_num team_2_sup  \\\n",
       "0                   3     Lucian                    2       Nami   \n",
       "\n",
       "  team_2_sup_pick_num    game_version  \n",
       "0                   6  13.11.512.8126  \n",
       "\n",
       "[1 rows x 62 columns]"
      ]
     },
     "execution_count": 4,
     "metadata": {},
     "output_type": "execute_result"
    }
   ],
   "source": [
    "game_summary.head(1)"
   ]
  },
  {
   "cell_type": "code",
   "execution_count": 5,
   "metadata": {},
   "outputs": [],
   "source": [
    "C9_games = game_summary[(game_summary['team_1_name'] == 'C9') | (game_summary['team_2_name'] == 'C9')]\n",
    "Eg_games = game_summary[(game_summary['team_1_name'] == 'C9') | (game_summary['team_2_name'] == 'C9')]"
   ]
  },
  {
   "cell_type": "code",
   "execution_count": 6,
   "metadata": {},
   "outputs": [
    {
     "data": {
      "text/plain": [
       "Index(['game_urn', 'match_perid', 'region', 'game_start_date_time',\n",
       "       'series_type', 'series_max', 'series_curr', 'team_1_urn', 'team_1_name',\n",
       "       'team_1_side', 'team_2_urn', 'team_2_name', 'team_2_side',\n",
       "       'winning_team_urn', 'winning_team', 'winning_side',\n",
       "       'game_duration_mins', 'bb1', 'rb1', 'bb2', 'rb2', 'bb3', 'rb3', 'bp1',\n",
       "       'rp1', 'rp2', 'bp2', 'bp3', 'rp3', 'rb4', 'bb4', 'rb5', 'bb5', 'rp4',\n",
       "       'bp4', 'bp5', 'rp5', 'team_1_perid', 'team_2_perid',\n",
       "       'winning_team_perid', 'upsert_at', 'team_1_top', 'team_1_top_pick_num',\n",
       "       'team_1_jng', 'team_1_jng_pick_num', 'team_1_mid',\n",
       "       'team_1_mid_pick_num', 'team_1_bot', 'team_1_bot_pick_num',\n",
       "       'team_1_sup', 'team_1_sup_pick_num', 'team_2_top',\n",
       "       'team_2_top_pick_num', 'team_2_jng', 'team_2_jng_pick_num',\n",
       "       'team_2_mid', 'team_2_mid_pick_num', 'team_2_bot',\n",
       "       'team_2_bot_pick_num', 'team_2_sup', 'team_2_sup_pick_num',\n",
       "       'game_version'],\n",
       "      dtype='object')"
      ]
     },
     "execution_count": 6,
     "metadata": {},
     "output_type": "execute_result"
    }
   ],
   "source": [
    "C9_games.columns"
   ]
  },
  {
   "cell_type": "code",
   "execution_count": 7,
   "metadata": {},
   "outputs": [
    {
     "data": {
      "text/html": [
       "<div>\n",
       "<style scoped>\n",
       "    .dataframe tbody tr th:only-of-type {\n",
       "        vertical-align: middle;\n",
       "    }\n",
       "\n",
       "    .dataframe tbody tr th {\n",
       "        vertical-align: top;\n",
       "    }\n",
       "\n",
       "    .dataframe thead th {\n",
       "        text-align: right;\n",
       "    }\n",
       "</style>\n",
       "<table border=\"1\" class=\"dataframe\">\n",
       "  <thead>\n",
       "    <tr style=\"text-align: right;\">\n",
       "      <th></th>\n",
       "      <th>team_1_top</th>\n",
       "      <th>team_1_jng</th>\n",
       "      <th>team_1_mid</th>\n",
       "      <th>team_1_bot</th>\n",
       "      <th>team_1_sup</th>\n",
       "      <th>team_2_top</th>\n",
       "      <th>team_2_jng</th>\n",
       "      <th>team_2_mid</th>\n",
       "      <th>team_2_bot</th>\n",
       "      <th>team_2_sup</th>\n",
       "      <th>winning_team</th>\n",
       "    </tr>\n",
       "  </thead>\n",
       "  <tbody>\n",
       "    <tr>\n",
       "      <th>0</th>\n",
       "      <td>KSante</td>\n",
       "      <td>Kindred</td>\n",
       "      <td>Gragas</td>\n",
       "      <td>Zeri</td>\n",
       "      <td>Milio</td>\n",
       "      <td>Ornn</td>\n",
       "      <td>Jax</td>\n",
       "      <td>Ahri</td>\n",
       "      <td>Lucian</td>\n",
       "      <td>Nami</td>\n",
       "      <td>C9</td>\n",
       "    </tr>\n",
       "    <tr>\n",
       "      <th>1</th>\n",
       "      <td>KSante</td>\n",
       "      <td>Maokai</td>\n",
       "      <td>Ahri</td>\n",
       "      <td>Jinx</td>\n",
       "      <td>Thresh</td>\n",
       "      <td>Jax</td>\n",
       "      <td>Khazix</td>\n",
       "      <td>Annie</td>\n",
       "      <td>Aphelios</td>\n",
       "      <td>Lulu</td>\n",
       "      <td>C9</td>\n",
       "    </tr>\n",
       "    <tr>\n",
       "      <th>4</th>\n",
       "      <td>Gragas</td>\n",
       "      <td>Kindred</td>\n",
       "      <td>KSante</td>\n",
       "      <td>Aphelios</td>\n",
       "      <td>Milio</td>\n",
       "      <td>Malphite</td>\n",
       "      <td>MonkeyKing</td>\n",
       "      <td>Ahri</td>\n",
       "      <td>Jhin</td>\n",
       "      <td>Karma</td>\n",
       "      <td>C9</td>\n",
       "    </tr>\n",
       "    <tr>\n",
       "      <th>6</th>\n",
       "      <td>Kennen</td>\n",
       "      <td>Nocturne</td>\n",
       "      <td>Neeko</td>\n",
       "      <td>Kaisa</td>\n",
       "      <td>Nautilus</td>\n",
       "      <td>Renekton</td>\n",
       "      <td>Vi</td>\n",
       "      <td>Azir</td>\n",
       "      <td>Aphelios</td>\n",
       "      <td>Thresh</td>\n",
       "      <td>C9</td>\n",
       "    </tr>\n",
       "    <tr>\n",
       "      <th>8</th>\n",
       "      <td>Sion</td>\n",
       "      <td>MonkeyKing</td>\n",
       "      <td>Neeko</td>\n",
       "      <td>Xayah</td>\n",
       "      <td>Rakan</td>\n",
       "      <td>KSante</td>\n",
       "      <td>Maokai</td>\n",
       "      <td>Jayce</td>\n",
       "      <td>Zeri</td>\n",
       "      <td>Yuumi</td>\n",
       "      <td>C9</td>\n",
       "    </tr>\n",
       "    <tr>\n",
       "      <th>10</th>\n",
       "      <td>Kennen</td>\n",
       "      <td>Vi</td>\n",
       "      <td>Annie</td>\n",
       "      <td>Aphelios</td>\n",
       "      <td>Yuumi</td>\n",
       "      <td>Jayce</td>\n",
       "      <td>MonkeyKing</td>\n",
       "      <td>Azir</td>\n",
       "      <td>Kaisa</td>\n",
       "      <td>Rell</td>\n",
       "      <td>NRG</td>\n",
       "    </tr>\n",
       "    <tr>\n",
       "      <th>11</th>\n",
       "      <td>Gnar</td>\n",
       "      <td>Vi</td>\n",
       "      <td>Annie</td>\n",
       "      <td>Kaisa</td>\n",
       "      <td>Rell</td>\n",
       "      <td>KSante</td>\n",
       "      <td>Viego</td>\n",
       "      <td>Ahri</td>\n",
       "      <td>Aphelios</td>\n",
       "      <td>Alistar</td>\n",
       "      <td>C9</td>\n",
       "    </tr>\n",
       "    <tr>\n",
       "      <th>13</th>\n",
       "      <td>Ornn</td>\n",
       "      <td>MonkeyKing</td>\n",
       "      <td>Leblanc</td>\n",
       "      <td>Aphelios</td>\n",
       "      <td>Renata</td>\n",
       "      <td>Renekton</td>\n",
       "      <td>Vi</td>\n",
       "      <td>Zeri</td>\n",
       "      <td>Xayah</td>\n",
       "      <td>Rakan</td>\n",
       "      <td>TL</td>\n",
       "    </tr>\n",
       "    <tr>\n",
       "      <th>15</th>\n",
       "      <td>KSante</td>\n",
       "      <td>Kindred</td>\n",
       "      <td>Ahri</td>\n",
       "      <td>Ashe</td>\n",
       "      <td>Milio</td>\n",
       "      <td>Renekton</td>\n",
       "      <td>Sejuani</td>\n",
       "      <td>Jayce</td>\n",
       "      <td>Varus</td>\n",
       "      <td>Janna</td>\n",
       "      <td>C9</td>\n",
       "    </tr>\n",
       "    <tr>\n",
       "      <th>18</th>\n",
       "      <td>Malphite</td>\n",
       "      <td>Viego</td>\n",
       "      <td>Neeko</td>\n",
       "      <td>Kaisa</td>\n",
       "      <td>Nautilus</td>\n",
       "      <td>Renekton</td>\n",
       "      <td>Sejuani</td>\n",
       "      <td>Orianna</td>\n",
       "      <td>Aphelios</td>\n",
       "      <td>Braum</td>\n",
       "      <td>C9</td>\n",
       "    </tr>\n",
       "    <tr>\n",
       "      <th>20</th>\n",
       "      <td>KSante</td>\n",
       "      <td>JarvanIV</td>\n",
       "      <td>Leblanc</td>\n",
       "      <td>Aphelios</td>\n",
       "      <td>Braum</td>\n",
       "      <td>Renekton</td>\n",
       "      <td>Viego</td>\n",
       "      <td>Annie</td>\n",
       "      <td>Draven</td>\n",
       "      <td>Soraka</td>\n",
       "      <td>GG</td>\n",
       "    </tr>\n",
       "    <tr>\n",
       "      <th>21</th>\n",
       "      <td>Renekton</td>\n",
       "      <td>Maokai</td>\n",
       "      <td>Tristana</td>\n",
       "      <td>Varus</td>\n",
       "      <td>Heimerdinger</td>\n",
       "      <td>Jax</td>\n",
       "      <td>Sejuani</td>\n",
       "      <td>Leblanc</td>\n",
       "      <td>Aphelios</td>\n",
       "      <td>Rell</td>\n",
       "      <td>C9</td>\n",
       "    </tr>\n",
       "    <tr>\n",
       "      <th>23</th>\n",
       "      <td>Renekton</td>\n",
       "      <td>Kindred</td>\n",
       "      <td>Lissandra</td>\n",
       "      <td>Ashe</td>\n",
       "      <td>Milio</td>\n",
       "      <td>Kennen</td>\n",
       "      <td>MonkeyKing</td>\n",
       "      <td>Ziggs</td>\n",
       "      <td>Aphelios</td>\n",
       "      <td>Rakan</td>\n",
       "      <td>TL</td>\n",
       "    </tr>\n",
       "    <tr>\n",
       "      <th>24</th>\n",
       "      <td>Rumble</td>\n",
       "      <td>Maokai</td>\n",
       "      <td>Jayce</td>\n",
       "      <td>Kaisa</td>\n",
       "      <td>Nautilus</td>\n",
       "      <td>Kennen</td>\n",
       "      <td>LeeSin</td>\n",
       "      <td>Ahri</td>\n",
       "      <td>Varus</td>\n",
       "      <td>Rell</td>\n",
       "      <td>C9</td>\n",
       "    </tr>\n",
       "    <tr>\n",
       "      <th>27</th>\n",
       "      <td>Renekton</td>\n",
       "      <td>Maokai</td>\n",
       "      <td>Tristana</td>\n",
       "      <td>KogMaw</td>\n",
       "      <td>Braum</td>\n",
       "      <td>Jax</td>\n",
       "      <td>Sejuani</td>\n",
       "      <td>Jayce</td>\n",
       "      <td>Aphelios</td>\n",
       "      <td>Rell</td>\n",
       "      <td>C9</td>\n",
       "    </tr>\n",
       "    <tr>\n",
       "      <th>29</th>\n",
       "      <td>KSante</td>\n",
       "      <td>Amumu</td>\n",
       "      <td>Leblanc</td>\n",
       "      <td>Xayah</td>\n",
       "      <td>Rakan</td>\n",
       "      <td>Gwen</td>\n",
       "      <td>Poppy</td>\n",
       "      <td>Jayce</td>\n",
       "      <td>Kaisa</td>\n",
       "      <td>Rell</td>\n",
       "      <td>NRG</td>\n",
       "    </tr>\n",
       "    <tr>\n",
       "      <th>30</th>\n",
       "      <td>KSante</td>\n",
       "      <td>Ivern</td>\n",
       "      <td>Tristana</td>\n",
       "      <td>Aphelios</td>\n",
       "      <td>Rell</td>\n",
       "      <td>Poppy</td>\n",
       "      <td>Maokai</td>\n",
       "      <td>Jayce</td>\n",
       "      <td>Ashe</td>\n",
       "      <td>Alistar</td>\n",
       "      <td>C9</td>\n",
       "    </tr>\n",
       "    <tr>\n",
       "      <th>33</th>\n",
       "      <td>Kennen</td>\n",
       "      <td>Sejuani</td>\n",
       "      <td>Tristana</td>\n",
       "      <td>Xayah</td>\n",
       "      <td>Rakan</td>\n",
       "      <td>Renekton</td>\n",
       "      <td>Ivern</td>\n",
       "      <td>Sylas</td>\n",
       "      <td>Aphelios</td>\n",
       "      <td>Rell</td>\n",
       "      <td>C9</td>\n",
       "    </tr>\n",
       "    <tr>\n",
       "      <th>34</th>\n",
       "      <td>Gwen</td>\n",
       "      <td>Rell</td>\n",
       "      <td>Jayce</td>\n",
       "      <td>Kaisa</td>\n",
       "      <td>Nautilus</td>\n",
       "      <td>KSante</td>\n",
       "      <td>Kindred</td>\n",
       "      <td>Ahri</td>\n",
       "      <td>Ashe</td>\n",
       "      <td>Milio</td>\n",
       "      <td>C9</td>\n",
       "    </tr>\n",
       "    <tr>\n",
       "      <th>35</th>\n",
       "      <td>Aatrox</td>\n",
       "      <td>Sejuani</td>\n",
       "      <td>Leblanc</td>\n",
       "      <td>Ashe</td>\n",
       "      <td>Braum</td>\n",
       "      <td>Renekton</td>\n",
       "      <td>Ivern</td>\n",
       "      <td>Jayce</td>\n",
       "      <td>Aphelios</td>\n",
       "      <td>Rell</td>\n",
       "      <td>C9</td>\n",
       "    </tr>\n",
       "    <tr>\n",
       "      <th>36</th>\n",
       "      <td>Aatrox</td>\n",
       "      <td>Sejuani</td>\n",
       "      <td>Jayce</td>\n",
       "      <td>Aphelios</td>\n",
       "      <td>Braum</td>\n",
       "      <td>Renekton</td>\n",
       "      <td>Khazix</td>\n",
       "      <td>Gragas</td>\n",
       "      <td>Kaisa</td>\n",
       "      <td>Rell</td>\n",
       "      <td>C9</td>\n",
       "    </tr>\n",
       "    <tr>\n",
       "      <th>37</th>\n",
       "      <td>KSante</td>\n",
       "      <td>Maokai</td>\n",
       "      <td>Jayce</td>\n",
       "      <td>Ezreal</td>\n",
       "      <td>Rell</td>\n",
       "      <td>Renekton</td>\n",
       "      <td>Sejuani</td>\n",
       "      <td>Azir</td>\n",
       "      <td>Kaisa</td>\n",
       "      <td>Rakan</td>\n",
       "      <td>C9</td>\n",
       "    </tr>\n",
       "    <tr>\n",
       "      <th>45</th>\n",
       "      <td>Jax</td>\n",
       "      <td>Rell</td>\n",
       "      <td>Tristana</td>\n",
       "      <td>Kaisa</td>\n",
       "      <td>Nautilus</td>\n",
       "      <td>Renekton</td>\n",
       "      <td>Maokai</td>\n",
       "      <td>Jayce</td>\n",
       "      <td>Aphelios</td>\n",
       "      <td>Alistar</td>\n",
       "      <td>C9</td>\n",
       "    </tr>\n",
       "    <tr>\n",
       "      <th>46</th>\n",
       "      <td>Ornn</td>\n",
       "      <td>Khazix</td>\n",
       "      <td>Leblanc</td>\n",
       "      <td>Ezreal</td>\n",
       "      <td>Rell</td>\n",
       "      <td>Renekton</td>\n",
       "      <td>Sejuani</td>\n",
       "      <td>Kaisa</td>\n",
       "      <td>Sivir</td>\n",
       "      <td>Rakan</td>\n",
       "      <td>C9</td>\n",
       "    </tr>\n",
       "    <tr>\n",
       "      <th>47</th>\n",
       "      <td>Renekton</td>\n",
       "      <td>Ivern</td>\n",
       "      <td>Azir</td>\n",
       "      <td>Sivir</td>\n",
       "      <td>Rakan</td>\n",
       "      <td>Jax</td>\n",
       "      <td>Rell</td>\n",
       "      <td>Corki</td>\n",
       "      <td>Xayah</td>\n",
       "      <td>Nautilus</td>\n",
       "      <td>C9</td>\n",
       "    </tr>\n",
       "    <tr>\n",
       "      <th>53</th>\n",
       "      <td>Renekton</td>\n",
       "      <td>Sejuani</td>\n",
       "      <td>Jayce</td>\n",
       "      <td>Kaisa</td>\n",
       "      <td>Nautilus</td>\n",
       "      <td>Rumble</td>\n",
       "      <td>Rell</td>\n",
       "      <td>Lucian</td>\n",
       "      <td>Zeri</td>\n",
       "      <td>Rakan</td>\n",
       "      <td>C9</td>\n",
       "    </tr>\n",
       "    <tr>\n",
       "      <th>54</th>\n",
       "      <td>Jax</td>\n",
       "      <td>Ivern</td>\n",
       "      <td>Jayce</td>\n",
       "      <td>Kaisa</td>\n",
       "      <td>Alistar</td>\n",
       "      <td>Renekton</td>\n",
       "      <td>Rell</td>\n",
       "      <td>Annie</td>\n",
       "      <td>Xayah</td>\n",
       "      <td>Rakan</td>\n",
       "      <td>NRG</td>\n",
       "    </tr>\n",
       "    <tr>\n",
       "      <th>55</th>\n",
       "      <td>Aatrox</td>\n",
       "      <td>Maokai</td>\n",
       "      <td>Ahri</td>\n",
       "      <td>Zeri</td>\n",
       "      <td>Alistar</td>\n",
       "      <td>Jax</td>\n",
       "      <td>Sejuani</td>\n",
       "      <td>Taliyah</td>\n",
       "      <td>Kaisa</td>\n",
       "      <td>Rell</td>\n",
       "      <td>NRG</td>\n",
       "    </tr>\n",
       "    <tr>\n",
       "      <th>56</th>\n",
       "      <td>Rumble</td>\n",
       "      <td>Sejuani</td>\n",
       "      <td>Yone</td>\n",
       "      <td>Draven</td>\n",
       "      <td>Renata</td>\n",
       "      <td>Jax</td>\n",
       "      <td>Rell</td>\n",
       "      <td>Neeko</td>\n",
       "      <td>Zeri</td>\n",
       "      <td>Alistar</td>\n",
       "      <td>NRG</td>\n",
       "    </tr>\n",
       "  </tbody>\n",
       "</table>\n",
       "</div>"
      ],
      "text/plain": [
       "   team_1_top  team_1_jng team_1_mid team_1_bot    team_1_sup team_2_top  \\\n",
       "0      KSante     Kindred     Gragas       Zeri         Milio       Ornn   \n",
       "1      KSante      Maokai       Ahri       Jinx        Thresh        Jax   \n",
       "4      Gragas     Kindred     KSante   Aphelios         Milio   Malphite   \n",
       "6      Kennen    Nocturne      Neeko      Kaisa      Nautilus   Renekton   \n",
       "8        Sion  MonkeyKing      Neeko      Xayah         Rakan     KSante   \n",
       "10     Kennen          Vi      Annie   Aphelios         Yuumi      Jayce   \n",
       "11       Gnar          Vi      Annie      Kaisa          Rell     KSante   \n",
       "13       Ornn  MonkeyKing    Leblanc   Aphelios        Renata   Renekton   \n",
       "15     KSante     Kindred       Ahri       Ashe         Milio   Renekton   \n",
       "18   Malphite       Viego      Neeko      Kaisa      Nautilus   Renekton   \n",
       "20     KSante    JarvanIV    Leblanc   Aphelios         Braum   Renekton   \n",
       "21   Renekton      Maokai   Tristana      Varus  Heimerdinger        Jax   \n",
       "23   Renekton     Kindred  Lissandra       Ashe         Milio     Kennen   \n",
       "24     Rumble      Maokai      Jayce      Kaisa      Nautilus     Kennen   \n",
       "27   Renekton      Maokai   Tristana     KogMaw         Braum        Jax   \n",
       "29     KSante       Amumu    Leblanc      Xayah         Rakan       Gwen   \n",
       "30     KSante       Ivern   Tristana   Aphelios          Rell      Poppy   \n",
       "33     Kennen     Sejuani   Tristana      Xayah         Rakan   Renekton   \n",
       "34       Gwen        Rell      Jayce      Kaisa      Nautilus     KSante   \n",
       "35     Aatrox     Sejuani    Leblanc       Ashe         Braum   Renekton   \n",
       "36     Aatrox     Sejuani      Jayce   Aphelios         Braum   Renekton   \n",
       "37     KSante      Maokai      Jayce     Ezreal          Rell   Renekton   \n",
       "45        Jax        Rell   Tristana      Kaisa      Nautilus   Renekton   \n",
       "46       Ornn      Khazix    Leblanc     Ezreal          Rell   Renekton   \n",
       "47   Renekton       Ivern       Azir      Sivir         Rakan        Jax   \n",
       "53   Renekton     Sejuani      Jayce      Kaisa      Nautilus     Rumble   \n",
       "54        Jax       Ivern      Jayce      Kaisa       Alistar   Renekton   \n",
       "55     Aatrox      Maokai       Ahri       Zeri       Alistar        Jax   \n",
       "56     Rumble     Sejuani       Yone     Draven        Renata        Jax   \n",
       "\n",
       "    team_2_jng team_2_mid team_2_bot team_2_sup winning_team  \n",
       "0          Jax       Ahri     Lucian       Nami           C9  \n",
       "1       Khazix      Annie   Aphelios       Lulu           C9  \n",
       "4   MonkeyKing       Ahri       Jhin      Karma           C9  \n",
       "6           Vi       Azir   Aphelios     Thresh           C9  \n",
       "8       Maokai      Jayce       Zeri      Yuumi           C9  \n",
       "10  MonkeyKing       Azir      Kaisa       Rell          NRG  \n",
       "11       Viego       Ahri   Aphelios    Alistar           C9  \n",
       "13          Vi       Zeri      Xayah      Rakan           TL  \n",
       "15     Sejuani      Jayce      Varus      Janna           C9  \n",
       "18     Sejuani    Orianna   Aphelios      Braum           C9  \n",
       "20       Viego      Annie     Draven     Soraka           GG  \n",
       "21     Sejuani    Leblanc   Aphelios       Rell           C9  \n",
       "23  MonkeyKing      Ziggs   Aphelios      Rakan           TL  \n",
       "24      LeeSin       Ahri      Varus       Rell           C9  \n",
       "27     Sejuani      Jayce   Aphelios       Rell           C9  \n",
       "29       Poppy      Jayce      Kaisa       Rell          NRG  \n",
       "30      Maokai      Jayce       Ashe    Alistar           C9  \n",
       "33       Ivern      Sylas   Aphelios       Rell           C9  \n",
       "34     Kindred       Ahri       Ashe      Milio           C9  \n",
       "35       Ivern      Jayce   Aphelios       Rell           C9  \n",
       "36      Khazix     Gragas      Kaisa       Rell           C9  \n",
       "37     Sejuani       Azir      Kaisa      Rakan           C9  \n",
       "45      Maokai      Jayce   Aphelios    Alistar           C9  \n",
       "46     Sejuani      Kaisa      Sivir      Rakan           C9  \n",
       "47        Rell      Corki      Xayah   Nautilus           C9  \n",
       "53        Rell     Lucian       Zeri      Rakan           C9  \n",
       "54        Rell      Annie      Xayah      Rakan          NRG  \n",
       "55     Sejuani    Taliyah      Kaisa       Rell          NRG  \n",
       "56        Rell      Neeko       Zeri    Alistar          NRG  "
      ]
     },
     "execution_count": 7,
     "metadata": {},
     "output_type": "execute_result"
    }
   ],
   "source": [
    "C9_games[['team_1_top', 'team_1_jng', 'team_1_mid','team_1_bot','team_1_sup', \n",
    "        'team_2_top','team_2_jng','team_2_mid', 'team_2_bot', 'team_2_sup', 'winning_team']]"
   ]
  },
  {
   "cell_type": "code",
   "execution_count": 8,
   "metadata": {},
   "outputs": [
    {
     "data": {
      "text/plain": [
       "Index(['game_urn', 'match_perid', 'region', 'game_start_date_time',\n",
       "       'series_type', 'series_max', 'series_curr', 'team_1_urn', 'team_1_name',\n",
       "       'team_1_side', 'team_2_urn', 'team_2_name', 'team_2_side',\n",
       "       'winning_team_urn', 'winning_team', 'winning_side',\n",
       "       'game_duration_mins', 'bb1', 'rb1', 'bb2', 'rb2', 'bb3', 'rb3', 'bp1',\n",
       "       'rp1', 'rp2', 'bp2', 'bp3', 'rp3', 'rb4', 'bb4', 'rb5', 'bb5', 'rp4',\n",
       "       'bp4', 'bp5', 'rp5', 'team_1_perid', 'team_2_perid',\n",
       "       'winning_team_perid', 'upsert_at', 'team_1_top', 'team_1_top_pick_num',\n",
       "       'team_1_jng', 'team_1_jng_pick_num', 'team_1_mid',\n",
       "       'team_1_mid_pick_num', 'team_1_bot', 'team_1_bot_pick_num',\n",
       "       'team_1_sup', 'team_1_sup_pick_num', 'team_2_top',\n",
       "       'team_2_top_pick_num', 'team_2_jng', 'team_2_jng_pick_num',\n",
       "       'team_2_mid', 'team_2_mid_pick_num', 'team_2_bot',\n",
       "       'team_2_bot_pick_num', 'team_2_sup', 'team_2_sup_pick_num',\n",
       "       'game_version'],\n",
       "      dtype='object')"
      ]
     },
     "execution_count": 8,
     "metadata": {},
     "output_type": "execute_result"
    }
   ],
   "source": [
    "game_summary.columns"
   ]
  },
  {
   "cell_type": "code",
   "execution_count": 9,
   "metadata": {},
   "outputs": [
    {
     "data": {
      "text/html": [
       "<div>\n",
       "<style scoped>\n",
       "    .dataframe tbody tr th:only-of-type {\n",
       "        vertical-align: middle;\n",
       "    }\n",
       "\n",
       "    .dataframe tbody tr th {\n",
       "        vertical-align: top;\n",
       "    }\n",
       "\n",
       "    .dataframe thead th {\n",
       "        text-align: right;\n",
       "    }\n",
       "</style>\n",
       "<table border=\"1\" class=\"dataframe\">\n",
       "  <thead>\n",
       "    <tr style=\"text-align: right;\">\n",
       "      <th></th>\n",
       "      <th>game_urn</th>\n",
       "      <th>seq_idx</th>\n",
       "      <th>event_date_time</th>\n",
       "      <th>game_time</th>\n",
       "      <th>monster_type</th>\n",
       "      <th>dragon_type</th>\n",
       "      <th>killer_team_urn</th>\n",
       "      <th>killer_team</th>\n",
       "      <th>killer_urn</th>\n",
       "      <th>killer</th>\n",
       "      <th>assistants</th>\n",
       "      <th>pos_x</th>\n",
       "      <th>pos_y</th>\n",
       "      <th>killer_team_perid</th>\n",
       "      <th>killer_perid</th>\n",
       "      <th>upsert_at</th>\n",
       "    </tr>\n",
       "  </thead>\n",
       "  <tbody>\n",
       "    <tr>\n",
       "      <th>0</th>\n",
       "      <td>live:lol:riot:map:esportstmnt01-3373466</td>\n",
       "      <td>0</td>\n",
       "      <td>2023-06-14 21:14:52.074000+00:00</td>\n",
       "      <td>96867</td>\n",
       "      <td>raptor</td>\n",
       "      <td>None</td>\n",
       "      <td>live:lol:riot:team:99294153824386385</td>\n",
       "      <td>GG</td>\n",
       "      <td>live:lol:riot:player:6d68f827-0469-30af-878b-3...</td>\n",
       "      <td>River</td>\n",
       "      <td></td>\n",
       "      <td>6963</td>\n",
       "      <td>4753</td>\n",
       "      <td>esports:team:44f6a80f-b0b7-432e-b6fe-1127ed555938</td>\n",
       "      <td>esports:player:654a72de-a5ee-44b9-9aa9-149ddd5...</td>\n",
       "      <td>2023-06-14 22:04:25.983167+00:00</td>\n",
       "    </tr>\n",
       "    <tr>\n",
       "      <th>1</th>\n",
       "      <td>live:lol:riot:map:esportstmnt01-3373466</td>\n",
       "      <td>1</td>\n",
       "      <td>2023-06-14 21:15:31.019000+00:00</td>\n",
       "      <td>135819</td>\n",
       "      <td>wolf</td>\n",
       "      <td>None</td>\n",
       "      <td>live:lol:riot:team:98767991877340524</td>\n",
       "      <td>C9</td>\n",
       "      <td>live:lol:riot:player:7f12e011-7e41-3b24-a73e-4...</td>\n",
       "      <td>Blaber</td>\n",
       "      <td></td>\n",
       "      <td>3268</td>\n",
       "      <td>6923</td>\n",
       "      <td>esports:team:c2be4c5e-e1e3-4c05-8098-914da28289ab</td>\n",
       "      <td>esports:player:4021e06c-1d01-4cbe-8a72-990e42b...</td>\n",
       "      <td>2023-06-14 22:04:25.983167+00:00</td>\n",
       "    </tr>\n",
       "  </tbody>\n",
       "</table>\n",
       "</div>"
      ],
      "text/plain": [
       "                                  game_urn  seq_idx  \\\n",
       "0  live:lol:riot:map:esportstmnt01-3373466        0   \n",
       "1  live:lol:riot:map:esportstmnt01-3373466        1   \n",
       "\n",
       "                   event_date_time  game_time monster_type dragon_type  \\\n",
       "0 2023-06-14 21:14:52.074000+00:00      96867       raptor        None   \n",
       "1 2023-06-14 21:15:31.019000+00:00     135819         wolf        None   \n",
       "\n",
       "                        killer_team_urn killer_team  \\\n",
       "0  live:lol:riot:team:99294153824386385          GG   \n",
       "1  live:lol:riot:team:98767991877340524          C9   \n",
       "\n",
       "                                          killer_urn  killer assistants  \\\n",
       "0  live:lol:riot:player:6d68f827-0469-30af-878b-3...   River              \n",
       "1  live:lol:riot:player:7f12e011-7e41-3b24-a73e-4...  Blaber              \n",
       "\n",
       "   pos_x  pos_y                                  killer_team_perid  \\\n",
       "0   6963   4753  esports:team:44f6a80f-b0b7-432e-b6fe-1127ed555938   \n",
       "1   3268   6923  esports:team:c2be4c5e-e1e3-4c05-8098-914da28289ab   \n",
       "\n",
       "                                        killer_perid  \\\n",
       "0  esports:player:654a72de-a5ee-44b9-9aa9-149ddd5...   \n",
       "1  esports:player:4021e06c-1d01-4cbe-8a72-990e42b...   \n",
       "\n",
       "                         upsert_at  \n",
       "0 2023-06-14 22:04:25.983167+00:00  \n",
       "1 2023-06-14 22:04:25.983167+00:00  "
      ]
     },
     "execution_count": 9,
     "metadata": {},
     "output_type": "execute_result"
    }
   ],
   "source": [
    "objective.head(2)"
   ]
  },
  {
   "cell_type": "code",
   "execution_count": 10,
   "metadata": {},
   "outputs": [
    {
     "data": {
      "text/html": [
       "<div>\n",
       "<style scoped>\n",
       "    .dataframe tbody tr th:only-of-type {\n",
       "        vertical-align: middle;\n",
       "    }\n",
       "\n",
       "    .dataframe tbody tr th {\n",
       "        vertical-align: top;\n",
       "    }\n",
       "\n",
       "    .dataframe thead th {\n",
       "        text-align: right;\n",
       "    }\n",
       "</style>\n",
       "<table border=\"1\" class=\"dataframe\">\n",
       "  <thead>\n",
       "    <tr style=\"text-align: right;\">\n",
       "      <th></th>\n",
       "      <th>game_urn</th>\n",
       "      <th>player_urn</th>\n",
       "      <th>team_urn</th>\n",
       "      <th>region</th>\n",
       "      <th>game_start_datetime</th>\n",
       "      <th>best_of</th>\n",
       "      <th>curr_game</th>\n",
       "      <th>player</th>\n",
       "      <th>team</th>\n",
       "      <th>champion</th>\n",
       "      <th>...</th>\n",
       "      <th>vision_score</th>\n",
       "      <th>jungle_prox</th>\n",
       "      <th>duo_prox</th>\n",
       "      <th>team_perid</th>\n",
       "      <th>player_perid</th>\n",
       "      <th>opp_player_perid</th>\n",
       "      <th>opp_team_urn_perid</th>\n",
       "      <th>upsert_at</th>\n",
       "      <th>gold_at_20m</th>\n",
       "      <th>gold_diff_at_20m</th>\n",
       "    </tr>\n",
       "  </thead>\n",
       "  <tbody>\n",
       "    <tr>\n",
       "      <th>0</th>\n",
       "      <td>live:lol:riot:map:esportstmnt01-3373466</td>\n",
       "      <td>live:lol:riot:player:37643ce5-d0ef-31f1-a000-a...</td>\n",
       "      <td>live:lol:riot:team:99294153824386385</td>\n",
       "      <td>LCS</td>\n",
       "      <td>2023-06-14 21:13:15.338000+00:00</td>\n",
       "      <td>1</td>\n",
       "      <td>1</td>\n",
       "      <td>huhi</td>\n",
       "      <td>GG</td>\n",
       "      <td>Nami</td>\n",
       "      <td>...</td>\n",
       "      <td>87.457497</td>\n",
       "      <td>0.322147</td>\n",
       "      <td>0.430611</td>\n",
       "      <td>esports:team:44f6a80f-b0b7-432e-b6fe-1127ed555938</td>\n",
       "      <td>esports:player:cd2bc07a-142e-4f89-bb89-b48eff2...</td>\n",
       "      <td>esports:player:f055bb59-5b23-4ba1-babe-f362412...</td>\n",
       "      <td>esports:team:c2be4c5e-e1e3-4c05-8098-914da28289ab</td>\n",
       "      <td>2023-06-14 22:04:29.271665+00:00</td>\n",
       "      <td>None</td>\n",
       "      <td>None</td>\n",
       "    </tr>\n",
       "    <tr>\n",
       "      <th>1</th>\n",
       "      <td>live:lol:riot:map:esportstmnt01-3373466</td>\n",
       "      <td>live:lol:riot:player:051c9431-16d0-3872-98c4-c...</td>\n",
       "      <td>live:lol:riot:team:98767991877340524</td>\n",
       "      <td>LCS</td>\n",
       "      <td>2023-06-14 21:13:15.338000+00:00</td>\n",
       "      <td>1</td>\n",
       "      <td>1</td>\n",
       "      <td>Fudge</td>\n",
       "      <td>C9</td>\n",
       "      <td>KSante</td>\n",
       "      <td>...</td>\n",
       "      <td>28.866512</td>\n",
       "      <td>0.087547</td>\n",
       "      <td>NaN</td>\n",
       "      <td>esports:team:c2be4c5e-e1e3-4c05-8098-914da28289ab</td>\n",
       "      <td>esports:player:6c3f2a06-dbbc-4e07-8e68-2d83b00...</td>\n",
       "      <td>esports:player:112a2549-b3ca-4094-91f1-d509238...</td>\n",
       "      <td>esports:team:44f6a80f-b0b7-432e-b6fe-1127ed555938</td>\n",
       "      <td>2023-06-14 22:04:29.271665+00:00</td>\n",
       "      <td>None</td>\n",
       "      <td>None</td>\n",
       "    </tr>\n",
       "  </tbody>\n",
       "</table>\n",
       "<p>2 rows × 56 columns</p>\n",
       "</div>"
      ],
      "text/plain": [
       "                                  game_urn  \\\n",
       "0  live:lol:riot:map:esportstmnt01-3373466   \n",
       "1  live:lol:riot:map:esportstmnt01-3373466   \n",
       "\n",
       "                                          player_urn  \\\n",
       "0  live:lol:riot:player:37643ce5-d0ef-31f1-a000-a...   \n",
       "1  live:lol:riot:player:051c9431-16d0-3872-98c4-c...   \n",
       "\n",
       "                               team_urn region  \\\n",
       "0  live:lol:riot:team:99294153824386385    LCS   \n",
       "1  live:lol:riot:team:98767991877340524    LCS   \n",
       "\n",
       "               game_start_datetime  best_of  curr_game player team champion  \\\n",
       "0 2023-06-14 21:13:15.338000+00:00        1          1   huhi   GG     Nami   \n",
       "1 2023-06-14 21:13:15.338000+00:00        1          1  Fudge   C9   KSante   \n",
       "\n",
       "   ... vision_score jungle_prox  duo_prox  \\\n",
       "0  ...    87.457497    0.322147  0.430611   \n",
       "1  ...    28.866512    0.087547       NaN   \n",
       "\n",
       "                                          team_perid  \\\n",
       "0  esports:team:44f6a80f-b0b7-432e-b6fe-1127ed555938   \n",
       "1  esports:team:c2be4c5e-e1e3-4c05-8098-914da28289ab   \n",
       "\n",
       "                                        player_perid  \\\n",
       "0  esports:player:cd2bc07a-142e-4f89-bb89-b48eff2...   \n",
       "1  esports:player:6c3f2a06-dbbc-4e07-8e68-2d83b00...   \n",
       "\n",
       "                                    opp_player_perid  \\\n",
       "0  esports:player:f055bb59-5b23-4ba1-babe-f362412...   \n",
       "1  esports:player:112a2549-b3ca-4094-91f1-d509238...   \n",
       "\n",
       "                                  opp_team_urn_perid  \\\n",
       "0  esports:team:c2be4c5e-e1e3-4c05-8098-914da28289ab   \n",
       "1  esports:team:44f6a80f-b0b7-432e-b6fe-1127ed555938   \n",
       "\n",
       "                         upsert_at  gold_at_20m  gold_diff_at_20m  \n",
       "0 2023-06-14 22:04:29.271665+00:00         None              None  \n",
       "1 2023-06-14 22:04:29.271665+00:00         None              None  \n",
       "\n",
       "[2 rows x 56 columns]"
      ]
     },
     "execution_count": 10,
     "metadata": {},
     "output_type": "execute_result"
    }
   ],
   "source": [
    "player_game_stats.head(2)"
   ]
  },
  {
   "cell_type": "code",
   "execution_count": 11,
   "metadata": {},
   "outputs": [
    {
     "data": {
      "text/html": [
       "<div>\n",
       "<style scoped>\n",
       "    .dataframe tbody tr th:only-of-type {\n",
       "        vertical-align: middle;\n",
       "    }\n",
       "\n",
       "    .dataframe tbody tr th {\n",
       "        vertical-align: top;\n",
       "    }\n",
       "\n",
       "    .dataframe thead th {\n",
       "        text-align: right;\n",
       "    }\n",
       "</style>\n",
       "<table border=\"1\" class=\"dataframe\">\n",
       "  <thead>\n",
       "    <tr style=\"text-align: right;\">\n",
       "      <th></th>\n",
       "      <th>game_urn</th>\n",
       "      <th>player_urn</th>\n",
       "      <th>seq_idx</th>\n",
       "      <th>event_date_time</th>\n",
       "      <th>game_time</th>\n",
       "      <th>winning_team</th>\n",
       "      <th>player</th>\n",
       "      <th>team_urn</th>\n",
       "      <th>team</th>\n",
       "      <th>champion</th>\n",
       "      <th>...</th>\n",
       "      <th>vision_score</th>\n",
       "      <th>total_damage_dealt_champions</th>\n",
       "      <th>total_damage_taken</th>\n",
       "      <th>item_1_id</th>\n",
       "      <th>item_2_id</th>\n",
       "      <th>item_3_id</th>\n",
       "      <th>item_4_id</th>\n",
       "      <th>item_5_id</th>\n",
       "      <th>item_6_id</th>\n",
       "      <th>item_7_id</th>\n",
       "    </tr>\n",
       "  </thead>\n",
       "  <tbody>\n",
       "    <tr>\n",
       "      <th>0</th>\n",
       "      <td>live:lol:riot:map:esportstmnt01-3373466</td>\n",
       "      <td>live:lol:riot:player:051c9431-16d0-3872-98c4-c...</td>\n",
       "      <td>16</td>\n",
       "      <td>2023-06-14 21:13:15.338000+00:00</td>\n",
       "      <td>138</td>\n",
       "      <td>None</td>\n",
       "      <td>Fudge</td>\n",
       "      <td>live:lol:riot:team:98767991877340524</td>\n",
       "      <td>C9</td>\n",
       "      <td>KSante</td>\n",
       "      <td>...</td>\n",
       "      <td>0.0</td>\n",
       "      <td>0.0</td>\n",
       "      <td>0.0</td>\n",
       "      <td>NaN</td>\n",
       "      <td>NaN</td>\n",
       "      <td>NaN</td>\n",
       "      <td>NaN</td>\n",
       "      <td>NaN</td>\n",
       "      <td>NaN</td>\n",
       "      <td>NaN</td>\n",
       "    </tr>\n",
       "    <tr>\n",
       "      <th>1</th>\n",
       "      <td>live:lol:riot:map:esportstmnt01-3373466</td>\n",
       "      <td>live:lol:riot:player:7f12e011-7e41-3b24-a73e-4...</td>\n",
       "      <td>16</td>\n",
       "      <td>2023-06-14 21:13:15.338000+00:00</td>\n",
       "      <td>138</td>\n",
       "      <td>None</td>\n",
       "      <td>Blaber</td>\n",
       "      <td>live:lol:riot:team:98767991877340524</td>\n",
       "      <td>C9</td>\n",
       "      <td>Kindred</td>\n",
       "      <td>...</td>\n",
       "      <td>0.0</td>\n",
       "      <td>0.0</td>\n",
       "      <td>0.0</td>\n",
       "      <td>NaN</td>\n",
       "      <td>NaN</td>\n",
       "      <td>NaN</td>\n",
       "      <td>NaN</td>\n",
       "      <td>NaN</td>\n",
       "      <td>NaN</td>\n",
       "      <td>NaN</td>\n",
       "    </tr>\n",
       "    <tr>\n",
       "      <th>2</th>\n",
       "      <td>live:lol:riot:map:esportstmnt01-3373466</td>\n",
       "      <td>live:lol:riot:player:8146eacb-7313-3639-ac26-0...</td>\n",
       "      <td>16</td>\n",
       "      <td>2023-06-14 21:13:15.338000+00:00</td>\n",
       "      <td>138</td>\n",
       "      <td>None</td>\n",
       "      <td>EMENES</td>\n",
       "      <td>live:lol:riot:team:98767991877340524</td>\n",
       "      <td>C9</td>\n",
       "      <td>Gragas</td>\n",
       "      <td>...</td>\n",
       "      <td>0.0</td>\n",
       "      <td>0.0</td>\n",
       "      <td>0.0</td>\n",
       "      <td>NaN</td>\n",
       "      <td>NaN</td>\n",
       "      <td>NaN</td>\n",
       "      <td>NaN</td>\n",
       "      <td>NaN</td>\n",
       "      <td>NaN</td>\n",
       "      <td>NaN</td>\n",
       "    </tr>\n",
       "    <tr>\n",
       "      <th>3</th>\n",
       "      <td>live:lol:riot:map:esportstmnt01-3373466</td>\n",
       "      <td>live:lol:riot:player:571444c9-662e-38fc-b857-4...</td>\n",
       "      <td>16</td>\n",
       "      <td>2023-06-14 21:13:15.338000+00:00</td>\n",
       "      <td>138</td>\n",
       "      <td>None</td>\n",
       "      <td>Berserker</td>\n",
       "      <td>live:lol:riot:team:98767991877340524</td>\n",
       "      <td>C9</td>\n",
       "      <td>Zeri</td>\n",
       "      <td>...</td>\n",
       "      <td>0.0</td>\n",
       "      <td>0.0</td>\n",
       "      <td>0.0</td>\n",
       "      <td>NaN</td>\n",
       "      <td>NaN</td>\n",
       "      <td>NaN</td>\n",
       "      <td>NaN</td>\n",
       "      <td>NaN</td>\n",
       "      <td>NaN</td>\n",
       "      <td>NaN</td>\n",
       "    </tr>\n",
       "    <tr>\n",
       "      <th>4</th>\n",
       "      <td>live:lol:riot:map:esportstmnt01-3373466</td>\n",
       "      <td>live:lol:riot:player:c5b97127-7d85-3d54-ab35-e...</td>\n",
       "      <td>16</td>\n",
       "      <td>2023-06-14 21:13:15.338000+00:00</td>\n",
       "      <td>138</td>\n",
       "      <td>None</td>\n",
       "      <td>Zven</td>\n",
       "      <td>live:lol:riot:team:98767991877340524</td>\n",
       "      <td>C9</td>\n",
       "      <td>Milio</td>\n",
       "      <td>...</td>\n",
       "      <td>0.0</td>\n",
       "      <td>0.0</td>\n",
       "      <td>0.0</td>\n",
       "      <td>NaN</td>\n",
       "      <td>NaN</td>\n",
       "      <td>NaN</td>\n",
       "      <td>NaN</td>\n",
       "      <td>NaN</td>\n",
       "      <td>NaN</td>\n",
       "      <td>NaN</td>\n",
       "    </tr>\n",
       "  </tbody>\n",
       "</table>\n",
       "<p>5 rows × 37 columns</p>\n",
       "</div>"
      ],
      "text/plain": [
       "                                  game_urn  \\\n",
       "0  live:lol:riot:map:esportstmnt01-3373466   \n",
       "1  live:lol:riot:map:esportstmnt01-3373466   \n",
       "2  live:lol:riot:map:esportstmnt01-3373466   \n",
       "3  live:lol:riot:map:esportstmnt01-3373466   \n",
       "4  live:lol:riot:map:esportstmnt01-3373466   \n",
       "\n",
       "                                          player_urn  seq_idx  \\\n",
       "0  live:lol:riot:player:051c9431-16d0-3872-98c4-c...       16   \n",
       "1  live:lol:riot:player:7f12e011-7e41-3b24-a73e-4...       16   \n",
       "2  live:lol:riot:player:8146eacb-7313-3639-ac26-0...       16   \n",
       "3  live:lol:riot:player:571444c9-662e-38fc-b857-4...       16   \n",
       "4  live:lol:riot:player:c5b97127-7d85-3d54-ab35-e...       16   \n",
       "\n",
       "                   event_date_time  game_time winning_team     player  \\\n",
       "0 2023-06-14 21:13:15.338000+00:00        138         None      Fudge   \n",
       "1 2023-06-14 21:13:15.338000+00:00        138         None     Blaber   \n",
       "2 2023-06-14 21:13:15.338000+00:00        138         None     EMENES   \n",
       "3 2023-06-14 21:13:15.338000+00:00        138         None  Berserker   \n",
       "4 2023-06-14 21:13:15.338000+00:00        138         None       Zven   \n",
       "\n",
       "                               team_urn team champion  ...  vision_score  \\\n",
       "0  live:lol:riot:team:98767991877340524   C9   KSante  ...           0.0   \n",
       "1  live:lol:riot:team:98767991877340524   C9  Kindred  ...           0.0   \n",
       "2  live:lol:riot:team:98767991877340524   C9   Gragas  ...           0.0   \n",
       "3  live:lol:riot:team:98767991877340524   C9     Zeri  ...           0.0   \n",
       "4  live:lol:riot:team:98767991877340524   C9    Milio  ...           0.0   \n",
       "\n",
       "   total_damage_dealt_champions  total_damage_taken  item_1_id  item_2_id  \\\n",
       "0                           0.0                 0.0        NaN        NaN   \n",
       "1                           0.0                 0.0        NaN        NaN   \n",
       "2                           0.0                 0.0        NaN        NaN   \n",
       "3                           0.0                 0.0        NaN        NaN   \n",
       "4                           0.0                 0.0        NaN        NaN   \n",
       "\n",
       "   item_3_id  item_4_id  item_5_id  item_6_id  item_7_id  \n",
       "0        NaN        NaN        NaN        NaN        NaN  \n",
       "1        NaN        NaN        NaN        NaN        NaN  \n",
       "2        NaN        NaN        NaN        NaN        NaN  \n",
       "3        NaN        NaN        NaN        NaN        NaN  \n",
       "4        NaN        NaN        NaN        NaN        NaN  \n",
       "\n",
       "[5 rows x 37 columns]"
      ]
     },
     "execution_count": 11,
     "metadata": {},
     "output_type": "execute_result"
    }
   ],
   "source": [
    "snapshot_stats.head(5)"
   ]
  },
  {
   "cell_type": "code",
   "execution_count": 12,
   "metadata": {},
   "outputs": [
    {
     "data": {
      "text/plain": [
       "Index(['game_urn', 'player_urn', 'seq_idx', 'event_date_time', 'game_time',\n",
       "       'winning_team', 'player', 'team_urn', 'team', 'champion', 'level',\n",
       "       'alive', 'health', 'current_gold', 'total_gold', 'gold_per_second',\n",
       "       'pos_x', 'pos_y', 'minions_killed', 'neutral_minions_killed',\n",
       "       'neutral_minions_killed_your_jungle',\n",
       "       'neutral_minions_killed_enemy_jungle', 'champs_killed', 'deaths',\n",
       "       'assists', 'wards_placed', 'wards_killed', 'vision_score',\n",
       "       'total_damage_dealt_champions', 'total_damage_taken', 'item_1_id',\n",
       "       'item_2_id', 'item_3_id', 'item_4_id', 'item_5_id', 'item_6_id',\n",
       "       'item_7_id'],\n",
       "      dtype='object')"
      ]
     },
     "execution_count": 12,
     "metadata": {},
     "output_type": "execute_result"
    }
   ],
   "source": [
    "snapshot_stats.columns"
   ]
  },
  {
   "cell_type": "code",
   "execution_count": 13,
   "metadata": {},
   "outputs": [
    {
     "data": {
      "text/html": [
       "<div>\n",
       "<style scoped>\n",
       "    .dataframe tbody tr th:only-of-type {\n",
       "        vertical-align: middle;\n",
       "    }\n",
       "\n",
       "    .dataframe tbody tr th {\n",
       "        vertical-align: top;\n",
       "    }\n",
       "\n",
       "    .dataframe thead th {\n",
       "        text-align: right;\n",
       "    }\n",
       "</style>\n",
       "<table border=\"1\" class=\"dataframe\">\n",
       "  <thead>\n",
       "    <tr style=\"text-align: right;\">\n",
       "      <th></th>\n",
       "      <th>game_urn</th>\n",
       "      <th>player_urn</th>\n",
       "      <th>seq_idx</th>\n",
       "      <th>event_date_time</th>\n",
       "      <th>game_time</th>\n",
       "      <th>winning_team</th>\n",
       "      <th>player</th>\n",
       "      <th>team_urn</th>\n",
       "      <th>team</th>\n",
       "      <th>champion</th>\n",
       "      <th>...</th>\n",
       "      <th>vision_score</th>\n",
       "      <th>total_damage_dealt_champions</th>\n",
       "      <th>total_damage_taken</th>\n",
       "      <th>item_1_id</th>\n",
       "      <th>item_2_id</th>\n",
       "      <th>item_3_id</th>\n",
       "      <th>item_4_id</th>\n",
       "      <th>item_5_id</th>\n",
       "      <th>item_6_id</th>\n",
       "      <th>item_7_id</th>\n",
       "    </tr>\n",
       "  </thead>\n",
       "  <tbody>\n",
       "    <tr>\n",
       "      <th>1775880</th>\n",
       "      <td>live:lol:riot:map:esportstmnt01-3417177</td>\n",
       "      <td>live:lol:riot:player:051c9431-16d0-3872-98c4-c...</td>\n",
       "      <td>16</td>\n",
       "      <td>2023-08-20 23:14:49.401000+00:00</td>\n",
       "      <td>135</td>\n",
       "      <td>None</td>\n",
       "      <td>Fudge</td>\n",
       "      <td>live:lol:riot:team:98767991877340524</td>\n",
       "      <td>C9</td>\n",
       "      <td>Rumble</td>\n",
       "      <td>...</td>\n",
       "      <td>0.0</td>\n",
       "      <td>0.0</td>\n",
       "      <td>0.0</td>\n",
       "      <td>NaN</td>\n",
       "      <td>NaN</td>\n",
       "      <td>NaN</td>\n",
       "      <td>NaN</td>\n",
       "      <td>NaN</td>\n",
       "      <td>NaN</td>\n",
       "      <td>NaN</td>\n",
       "    </tr>\n",
       "    <tr>\n",
       "      <th>1775881</th>\n",
       "      <td>live:lol:riot:map:esportstmnt01-3417177</td>\n",
       "      <td>live:lol:riot:player:7f12e011-7e41-3b24-a73e-4...</td>\n",
       "      <td>16</td>\n",
       "      <td>2023-08-20 23:14:49.401000+00:00</td>\n",
       "      <td>135</td>\n",
       "      <td>None</td>\n",
       "      <td>Blaber</td>\n",
       "      <td>live:lol:riot:team:98767991877340524</td>\n",
       "      <td>C9</td>\n",
       "      <td>Sejuani</td>\n",
       "      <td>...</td>\n",
       "      <td>0.0</td>\n",
       "      <td>0.0</td>\n",
       "      <td>0.0</td>\n",
       "      <td>NaN</td>\n",
       "      <td>NaN</td>\n",
       "      <td>NaN</td>\n",
       "      <td>NaN</td>\n",
       "      <td>NaN</td>\n",
       "      <td>NaN</td>\n",
       "      <td>NaN</td>\n",
       "    </tr>\n",
       "    <tr>\n",
       "      <th>1775882</th>\n",
       "      <td>live:lol:riot:map:esportstmnt01-3417177</td>\n",
       "      <td>live:lol:riot:player:8146eacb-7313-3639-ac26-0...</td>\n",
       "      <td>16</td>\n",
       "      <td>2023-08-20 23:14:49.401000+00:00</td>\n",
       "      <td>135</td>\n",
       "      <td>None</td>\n",
       "      <td>EMENES</td>\n",
       "      <td>live:lol:riot:team:98767991877340524</td>\n",
       "      <td>C9</td>\n",
       "      <td>Yone</td>\n",
       "      <td>...</td>\n",
       "      <td>0.0</td>\n",
       "      <td>0.0</td>\n",
       "      <td>0.0</td>\n",
       "      <td>NaN</td>\n",
       "      <td>NaN</td>\n",
       "      <td>NaN</td>\n",
       "      <td>NaN</td>\n",
       "      <td>NaN</td>\n",
       "      <td>NaN</td>\n",
       "      <td>NaN</td>\n",
       "    </tr>\n",
       "    <tr>\n",
       "      <th>1775883</th>\n",
       "      <td>live:lol:riot:map:esportstmnt01-3417177</td>\n",
       "      <td>live:lol:riot:player:571444c9-662e-38fc-b857-4...</td>\n",
       "      <td>16</td>\n",
       "      <td>2023-08-20 23:14:49.401000+00:00</td>\n",
       "      <td>135</td>\n",
       "      <td>None</td>\n",
       "      <td>Berserker</td>\n",
       "      <td>live:lol:riot:team:98767991877340524</td>\n",
       "      <td>C9</td>\n",
       "      <td>Draven</td>\n",
       "      <td>...</td>\n",
       "      <td>0.0</td>\n",
       "      <td>0.0</td>\n",
       "      <td>0.0</td>\n",
       "      <td>NaN</td>\n",
       "      <td>NaN</td>\n",
       "      <td>NaN</td>\n",
       "      <td>NaN</td>\n",
       "      <td>NaN</td>\n",
       "      <td>NaN</td>\n",
       "      <td>NaN</td>\n",
       "    </tr>\n",
       "    <tr>\n",
       "      <th>1775884</th>\n",
       "      <td>live:lol:riot:map:esportstmnt01-3417177</td>\n",
       "      <td>live:lol:riot:player:c5b97127-7d85-3d54-ab35-e...</td>\n",
       "      <td>16</td>\n",
       "      <td>2023-08-20 23:14:49.401000+00:00</td>\n",
       "      <td>135</td>\n",
       "      <td>None</td>\n",
       "      <td>Zven</td>\n",
       "      <td>live:lol:riot:team:98767991877340524</td>\n",
       "      <td>C9</td>\n",
       "      <td>Renata</td>\n",
       "      <td>...</td>\n",
       "      <td>0.0</td>\n",
       "      <td>0.0</td>\n",
       "      <td>0.0</td>\n",
       "      <td>NaN</td>\n",
       "      <td>NaN</td>\n",
       "      <td>NaN</td>\n",
       "      <td>NaN</td>\n",
       "      <td>NaN</td>\n",
       "      <td>NaN</td>\n",
       "      <td>NaN</td>\n",
       "    </tr>\n",
       "    <tr>\n",
       "      <th>1775885</th>\n",
       "      <td>live:lol:riot:map:esportstmnt01-3417177</td>\n",
       "      <td>live:lol:riot:player:b36179da-3e05-3a7b-9383-2...</td>\n",
       "      <td>16</td>\n",
       "      <td>2023-08-20 23:14:49.401000+00:00</td>\n",
       "      <td>135</td>\n",
       "      <td>None</td>\n",
       "      <td>Dhokla</td>\n",
       "      <td>live:lol:riot:team:106972778172351142</td>\n",
       "      <td>NRG</td>\n",
       "      <td>Jax</td>\n",
       "      <td>...</td>\n",
       "      <td>0.0</td>\n",
       "      <td>0.0</td>\n",
       "      <td>0.0</td>\n",
       "      <td>NaN</td>\n",
       "      <td>NaN</td>\n",
       "      <td>NaN</td>\n",
       "      <td>NaN</td>\n",
       "      <td>NaN</td>\n",
       "      <td>NaN</td>\n",
       "      <td>NaN</td>\n",
       "    </tr>\n",
       "    <tr>\n",
       "      <th>1775886</th>\n",
       "      <td>live:lol:riot:map:esportstmnt01-3417177</td>\n",
       "      <td>live:lol:riot:player:e50d1e40-0012-37d0-b925-f...</td>\n",
       "      <td>16</td>\n",
       "      <td>2023-08-20 23:14:49.401000+00:00</td>\n",
       "      <td>135</td>\n",
       "      <td>None</td>\n",
       "      <td>Contractz</td>\n",
       "      <td>live:lol:riot:team:106972778172351142</td>\n",
       "      <td>NRG</td>\n",
       "      <td>Rell</td>\n",
       "      <td>...</td>\n",
       "      <td>0.0</td>\n",
       "      <td>0.0</td>\n",
       "      <td>0.0</td>\n",
       "      <td>NaN</td>\n",
       "      <td>NaN</td>\n",
       "      <td>NaN</td>\n",
       "      <td>NaN</td>\n",
       "      <td>NaN</td>\n",
       "      <td>NaN</td>\n",
       "      <td>NaN</td>\n",
       "    </tr>\n",
       "    <tr>\n",
       "      <th>1775887</th>\n",
       "      <td>live:lol:riot:map:esportstmnt01-3417177</td>\n",
       "      <td>live:lol:riot:player:84b21685-d98c-3d7a-b447-8...</td>\n",
       "      <td>16</td>\n",
       "      <td>2023-08-20 23:14:49.401000+00:00</td>\n",
       "      <td>135</td>\n",
       "      <td>None</td>\n",
       "      <td>Palafox</td>\n",
       "      <td>live:lol:riot:team:106972778172351142</td>\n",
       "      <td>NRG</td>\n",
       "      <td>Neeko</td>\n",
       "      <td>...</td>\n",
       "      <td>0.0</td>\n",
       "      <td>0.0</td>\n",
       "      <td>0.0</td>\n",
       "      <td>NaN</td>\n",
       "      <td>NaN</td>\n",
       "      <td>NaN</td>\n",
       "      <td>NaN</td>\n",
       "      <td>NaN</td>\n",
       "      <td>NaN</td>\n",
       "      <td>NaN</td>\n",
       "    </tr>\n",
       "    <tr>\n",
       "      <th>1775888</th>\n",
       "      <td>live:lol:riot:map:esportstmnt01-3417177</td>\n",
       "      <td>live:lol:riot:player:b3b1b929-80c7-328f-9ff3-0...</td>\n",
       "      <td>16</td>\n",
       "      <td>2023-08-20 23:14:49.401000+00:00</td>\n",
       "      <td>135</td>\n",
       "      <td>None</td>\n",
       "      <td>FBI</td>\n",
       "      <td>live:lol:riot:team:106972778172351142</td>\n",
       "      <td>NRG</td>\n",
       "      <td>Zeri</td>\n",
       "      <td>...</td>\n",
       "      <td>0.0</td>\n",
       "      <td>0.0</td>\n",
       "      <td>0.0</td>\n",
       "      <td>NaN</td>\n",
       "      <td>NaN</td>\n",
       "      <td>NaN</td>\n",
       "      <td>NaN</td>\n",
       "      <td>NaN</td>\n",
       "      <td>NaN</td>\n",
       "      <td>NaN</td>\n",
       "    </tr>\n",
       "    <tr>\n",
       "      <th>1775889</th>\n",
       "      <td>live:lol:riot:map:esportstmnt01-3417177</td>\n",
       "      <td>live:lol:riot:player:19d808be-6331-357b-a216-4...</td>\n",
       "      <td>16</td>\n",
       "      <td>2023-08-20 23:14:49.401000+00:00</td>\n",
       "      <td>135</td>\n",
       "      <td>None</td>\n",
       "      <td>IgNar</td>\n",
       "      <td>live:lol:riot:team:106972778172351142</td>\n",
       "      <td>NRG</td>\n",
       "      <td>Alistar</td>\n",
       "      <td>...</td>\n",
       "      <td>0.0</td>\n",
       "      <td>0.0</td>\n",
       "      <td>0.0</td>\n",
       "      <td>2403.0</td>\n",
       "      <td>NaN</td>\n",
       "      <td>NaN</td>\n",
       "      <td>NaN</td>\n",
       "      <td>NaN</td>\n",
       "      <td>NaN</td>\n",
       "      <td>NaN</td>\n",
       "    </tr>\n",
       "  </tbody>\n",
       "</table>\n",
       "<p>10 rows × 37 columns</p>\n",
       "</div>"
      ],
      "text/plain": [
       "                                        game_urn  \\\n",
       "1775880  live:lol:riot:map:esportstmnt01-3417177   \n",
       "1775881  live:lol:riot:map:esportstmnt01-3417177   \n",
       "1775882  live:lol:riot:map:esportstmnt01-3417177   \n",
       "1775883  live:lol:riot:map:esportstmnt01-3417177   \n",
       "1775884  live:lol:riot:map:esportstmnt01-3417177   \n",
       "1775885  live:lol:riot:map:esportstmnt01-3417177   \n",
       "1775886  live:lol:riot:map:esportstmnt01-3417177   \n",
       "1775887  live:lol:riot:map:esportstmnt01-3417177   \n",
       "1775888  live:lol:riot:map:esportstmnt01-3417177   \n",
       "1775889  live:lol:riot:map:esportstmnt01-3417177   \n",
       "\n",
       "                                                player_urn  seq_idx  \\\n",
       "1775880  live:lol:riot:player:051c9431-16d0-3872-98c4-c...       16   \n",
       "1775881  live:lol:riot:player:7f12e011-7e41-3b24-a73e-4...       16   \n",
       "1775882  live:lol:riot:player:8146eacb-7313-3639-ac26-0...       16   \n",
       "1775883  live:lol:riot:player:571444c9-662e-38fc-b857-4...       16   \n",
       "1775884  live:lol:riot:player:c5b97127-7d85-3d54-ab35-e...       16   \n",
       "1775885  live:lol:riot:player:b36179da-3e05-3a7b-9383-2...       16   \n",
       "1775886  live:lol:riot:player:e50d1e40-0012-37d0-b925-f...       16   \n",
       "1775887  live:lol:riot:player:84b21685-d98c-3d7a-b447-8...       16   \n",
       "1775888  live:lol:riot:player:b3b1b929-80c7-328f-9ff3-0...       16   \n",
       "1775889  live:lol:riot:player:19d808be-6331-357b-a216-4...       16   \n",
       "\n",
       "                         event_date_time  game_time winning_team     player  \\\n",
       "1775880 2023-08-20 23:14:49.401000+00:00        135         None      Fudge   \n",
       "1775881 2023-08-20 23:14:49.401000+00:00        135         None     Blaber   \n",
       "1775882 2023-08-20 23:14:49.401000+00:00        135         None     EMENES   \n",
       "1775883 2023-08-20 23:14:49.401000+00:00        135         None  Berserker   \n",
       "1775884 2023-08-20 23:14:49.401000+00:00        135         None       Zven   \n",
       "1775885 2023-08-20 23:14:49.401000+00:00        135         None     Dhokla   \n",
       "1775886 2023-08-20 23:14:49.401000+00:00        135         None  Contractz   \n",
       "1775887 2023-08-20 23:14:49.401000+00:00        135         None    Palafox   \n",
       "1775888 2023-08-20 23:14:49.401000+00:00        135         None        FBI   \n",
       "1775889 2023-08-20 23:14:49.401000+00:00        135         None      IgNar   \n",
       "\n",
       "                                      team_urn team champion  ...  \\\n",
       "1775880   live:lol:riot:team:98767991877340524   C9   Rumble  ...   \n",
       "1775881   live:lol:riot:team:98767991877340524   C9  Sejuani  ...   \n",
       "1775882   live:lol:riot:team:98767991877340524   C9     Yone  ...   \n",
       "1775883   live:lol:riot:team:98767991877340524   C9   Draven  ...   \n",
       "1775884   live:lol:riot:team:98767991877340524   C9   Renata  ...   \n",
       "1775885  live:lol:riot:team:106972778172351142  NRG      Jax  ...   \n",
       "1775886  live:lol:riot:team:106972778172351142  NRG     Rell  ...   \n",
       "1775887  live:lol:riot:team:106972778172351142  NRG    Neeko  ...   \n",
       "1775888  live:lol:riot:team:106972778172351142  NRG     Zeri  ...   \n",
       "1775889  live:lol:riot:team:106972778172351142  NRG  Alistar  ...   \n",
       "\n",
       "         vision_score  total_damage_dealt_champions  total_damage_taken  \\\n",
       "1775880           0.0                           0.0                 0.0   \n",
       "1775881           0.0                           0.0                 0.0   \n",
       "1775882           0.0                           0.0                 0.0   \n",
       "1775883           0.0                           0.0                 0.0   \n",
       "1775884           0.0                           0.0                 0.0   \n",
       "1775885           0.0                           0.0                 0.0   \n",
       "1775886           0.0                           0.0                 0.0   \n",
       "1775887           0.0                           0.0                 0.0   \n",
       "1775888           0.0                           0.0                 0.0   \n",
       "1775889           0.0                           0.0                 0.0   \n",
       "\n",
       "         item_1_id  item_2_id  item_3_id  item_4_id  item_5_id  item_6_id  \\\n",
       "1775880        NaN        NaN        NaN        NaN        NaN        NaN   \n",
       "1775881        NaN        NaN        NaN        NaN        NaN        NaN   \n",
       "1775882        NaN        NaN        NaN        NaN        NaN        NaN   \n",
       "1775883        NaN        NaN        NaN        NaN        NaN        NaN   \n",
       "1775884        NaN        NaN        NaN        NaN        NaN        NaN   \n",
       "1775885        NaN        NaN        NaN        NaN        NaN        NaN   \n",
       "1775886        NaN        NaN        NaN        NaN        NaN        NaN   \n",
       "1775887        NaN        NaN        NaN        NaN        NaN        NaN   \n",
       "1775888        NaN        NaN        NaN        NaN        NaN        NaN   \n",
       "1775889     2403.0        NaN        NaN        NaN        NaN        NaN   \n",
       "\n",
       "         item_7_id  \n",
       "1775880        NaN  \n",
       "1775881        NaN  \n",
       "1775882        NaN  \n",
       "1775883        NaN  \n",
       "1775884        NaN  \n",
       "1775885        NaN  \n",
       "1775886        NaN  \n",
       "1775887        NaN  \n",
       "1775888        NaN  \n",
       "1775889        NaN  \n",
       "\n",
       "[10 rows x 37 columns]"
      ]
     },
     "execution_count": 13,
     "metadata": {},
     "output_type": "execute_result"
    }
   ],
   "source": [
    "snapshot_stats[snapshot_stats['game_time'] == 135]"
   ]
  },
  {
   "cell_type": "code",
   "execution_count": 14,
   "metadata": {},
   "outputs": [
    {
     "data": {
      "text/html": [
       "<div>\n",
       "<style scoped>\n",
       "    .dataframe tbody tr th:only-of-type {\n",
       "        vertical-align: middle;\n",
       "    }\n",
       "\n",
       "    .dataframe tbody tr th {\n",
       "        vertical-align: top;\n",
       "    }\n",
       "\n",
       "    .dataframe thead th {\n",
       "        text-align: right;\n",
       "    }\n",
       "</style>\n",
       "<table border=\"1\" class=\"dataframe\">\n",
       "  <thead>\n",
       "    <tr style=\"text-align: right;\">\n",
       "      <th></th>\n",
       "      <th>seq_idx</th>\n",
       "      <th>pos_x</th>\n",
       "      <th>pos_y</th>\n",
       "    </tr>\n",
       "  </thead>\n",
       "  <tbody>\n",
       "    <tr>\n",
       "      <th>0</th>\n",
       "      <td>16</td>\n",
       "      <td>554</td>\n",
       "      <td>581</td>\n",
       "    </tr>\n",
       "    <tr>\n",
       "      <th>1</th>\n",
       "      <td>16</td>\n",
       "      <td>593</td>\n",
       "      <td>464</td>\n",
       "    </tr>\n",
       "    <tr>\n",
       "      <th>2</th>\n",
       "      <td>16</td>\n",
       "      <td>557</td>\n",
       "      <td>345</td>\n",
       "    </tr>\n",
       "    <tr>\n",
       "      <th>3</th>\n",
       "      <td>16</td>\n",
       "      <td>458</td>\n",
       "      <td>271</td>\n",
       "    </tr>\n",
       "    <tr>\n",
       "      <th>4</th>\n",
       "      <td>16</td>\n",
       "      <td>335</td>\n",
       "      <td>269</td>\n",
       "    </tr>\n",
       "    <tr>\n",
       "      <th>5</th>\n",
       "      <td>16</td>\n",
       "      <td>14500</td>\n",
       "      <td>14511</td>\n",
       "    </tr>\n",
       "    <tr>\n",
       "      <th>6</th>\n",
       "      <td>16</td>\n",
       "      <td>14539</td>\n",
       "      <td>14394</td>\n",
       "    </tr>\n",
       "    <tr>\n",
       "      <th>7</th>\n",
       "      <td>16</td>\n",
       "      <td>14503</td>\n",
       "      <td>14275</td>\n",
       "    </tr>\n",
       "    <tr>\n",
       "      <th>8</th>\n",
       "      <td>16</td>\n",
       "      <td>14404</td>\n",
       "      <td>14201</td>\n",
       "    </tr>\n",
       "    <tr>\n",
       "      <th>9</th>\n",
       "      <td>16</td>\n",
       "      <td>14281</td>\n",
       "      <td>14199</td>\n",
       "    </tr>\n",
       "  </tbody>\n",
       "</table>\n",
       "</div>"
      ],
      "text/plain": [
       "   seq_idx  pos_x  pos_y\n",
       "0       16    554    581\n",
       "1       16    593    464\n",
       "2       16    557    345\n",
       "3       16    458    271\n",
       "4       16    335    269\n",
       "5       16  14500  14511\n",
       "6       16  14539  14394\n",
       "7       16  14503  14275\n",
       "8       16  14404  14201\n",
       "9       16  14281  14199"
      ]
     },
     "execution_count": 14,
     "metadata": {},
     "output_type": "execute_result"
    }
   ],
   "source": [
    "snapshot_stats[['seq_idx', 'pos_x', 'pos_y']].head(10)"
   ]
  },
  {
   "cell_type": "code",
   "execution_count": 15,
   "metadata": {},
   "outputs": [
    {
     "data": {
      "text/html": [
       "<div>\n",
       "<style scoped>\n",
       "    .dataframe tbody tr th:only-of-type {\n",
       "        vertical-align: middle;\n",
       "    }\n",
       "\n",
       "    .dataframe tbody tr th {\n",
       "        vertical-align: top;\n",
       "    }\n",
       "\n",
       "    .dataframe thead th {\n",
       "        text-align: right;\n",
       "    }\n",
       "</style>\n",
       "<table border=\"1\" class=\"dataframe\">\n",
       "  <thead>\n",
       "    <tr style=\"text-align: right;\">\n",
       "      <th></th>\n",
       "      <th>game_urn</th>\n",
       "      <th>seq_idx</th>\n",
       "      <th>event_date_time</th>\n",
       "      <th>game_time</th>\n",
       "      <th>ward_type</th>\n",
       "      <th>placer_team_urn</th>\n",
       "      <th>placer_team</th>\n",
       "      <th>placer_urn</th>\n",
       "      <th>placer</th>\n",
       "      <th>pos_x</th>\n",
       "      <th>pos_y</th>\n",
       "      <th>placer_team_perid</th>\n",
       "      <th>placer_perid</th>\n",
       "      <th>upsert_at</th>\n",
       "    </tr>\n",
       "  </thead>\n",
       "  <tbody>\n",
       "    <tr>\n",
       "      <th>0</th>\n",
       "      <td>live:lol:riot:map:esportstmnt01-3373466</td>\n",
       "      <td>0</td>\n",
       "      <td>2023-06-14 21:14:35.125000+00:00</td>\n",
       "      <td>79926</td>\n",
       "      <td>yellowTrinket</td>\n",
       "      <td>live:lol:riot:team:98767991877340524</td>\n",
       "      <td>C9</td>\n",
       "      <td>live:lol:riot:player:8146eacb-7313-3639-ac26-0...</td>\n",
       "      <td>EMENES</td>\n",
       "      <td>9330</td>\n",
       "      <td>5592</td>\n",
       "      <td>esports:team:c2be4c5e-e1e3-4c05-8098-914da28289ab</td>\n",
       "      <td>esports:player:c39d6f48-788f-4bf4-9f37-34e816b...</td>\n",
       "      <td>2023-06-14 22:04:24.352030+00:00</td>\n",
       "    </tr>\n",
       "    <tr>\n",
       "      <th>1</th>\n",
       "      <td>live:lol:riot:map:esportstmnt01-3373466</td>\n",
       "      <td>1</td>\n",
       "      <td>2023-06-14 21:14:41.603000+00:00</td>\n",
       "      <td>86404</td>\n",
       "      <td>yellowTrinket</td>\n",
       "      <td>live:lol:riot:team:99294153824386385</td>\n",
       "      <td>GG</td>\n",
       "      <td>live:lol:riot:player:6d68f827-0469-30af-878b-3...</td>\n",
       "      <td>River</td>\n",
       "      <td>8566</td>\n",
       "      <td>4872</td>\n",
       "      <td>esports:team:44f6a80f-b0b7-432e-b6fe-1127ed555938</td>\n",
       "      <td>esports:player:654a72de-a5ee-44b9-9aa9-149ddd5...</td>\n",
       "      <td>2023-06-14 22:04:24.352030+00:00</td>\n",
       "    </tr>\n",
       "    <tr>\n",
       "      <th>2</th>\n",
       "      <td>live:lol:riot:map:esportstmnt01-3373466</td>\n",
       "      <td>2</td>\n",
       "      <td>2023-06-14 21:14:47.263000+00:00</td>\n",
       "      <td>92064</td>\n",
       "      <td>yellowTrinket</td>\n",
       "      <td>live:lol:riot:team:99294153824386385</td>\n",
       "      <td>GG</td>\n",
       "      <td>live:lol:riot:player:37643ce5-d0ef-31f1-a000-a...</td>\n",
       "      <td>huhi</td>\n",
       "      <td>10637</td>\n",
       "      <td>3012</td>\n",
       "      <td>esports:team:44f6a80f-b0b7-432e-b6fe-1127ed555938</td>\n",
       "      <td>esports:player:cd2bc07a-142e-4f89-bb89-b48eff2...</td>\n",
       "      <td>2023-06-14 22:04:24.352030+00:00</td>\n",
       "    </tr>\n",
       "    <tr>\n",
       "      <th>3</th>\n",
       "      <td>live:lol:riot:map:esportstmnt01-3373466</td>\n",
       "      <td>3</td>\n",
       "      <td>2023-06-14 21:15:03.016000+00:00</td>\n",
       "      <td>107817</td>\n",
       "      <td>yellowTrinket</td>\n",
       "      <td>live:lol:riot:team:98767991877340524</td>\n",
       "      <td>C9</td>\n",
       "      <td>live:lol:riot:player:7f12e011-7e41-3b24-a73e-4...</td>\n",
       "      <td>Blaber</td>\n",
       "      <td>6492</td>\n",
       "      <td>4684</td>\n",
       "      <td>esports:team:c2be4c5e-e1e3-4c05-8098-914da28289ab</td>\n",
       "      <td>esports:player:4021e06c-1d01-4cbe-8a72-990e42b...</td>\n",
       "      <td>2023-06-14 22:04:24.352030+00:00</td>\n",
       "    </tr>\n",
       "    <tr>\n",
       "      <th>4</th>\n",
       "      <td>live:lol:riot:map:esportstmnt01-3373466</td>\n",
       "      <td>4</td>\n",
       "      <td>2023-06-14 21:15:13.961000+00:00</td>\n",
       "      <td>118763</td>\n",
       "      <td>yellowTrinket</td>\n",
       "      <td>live:lol:riot:team:98767991877340524</td>\n",
       "      <td>C9</td>\n",
       "      <td>live:lol:riot:player:c5b97127-7d85-3d54-ab35-e...</td>\n",
       "      <td>Zven</td>\n",
       "      <td>12256</td>\n",
       "      <td>1318</td>\n",
       "      <td>esports:team:c2be4c5e-e1e3-4c05-8098-914da28289ab</td>\n",
       "      <td>esports:player:f055bb59-5b23-4ba1-babe-f362412...</td>\n",
       "      <td>2023-06-14 22:04:24.352030+00:00</td>\n",
       "    </tr>\n",
       "  </tbody>\n",
       "</table>\n",
       "</div>"
      ],
      "text/plain": [
       "                                  game_urn  seq_idx  \\\n",
       "0  live:lol:riot:map:esportstmnt01-3373466        0   \n",
       "1  live:lol:riot:map:esportstmnt01-3373466        1   \n",
       "2  live:lol:riot:map:esportstmnt01-3373466        2   \n",
       "3  live:lol:riot:map:esportstmnt01-3373466        3   \n",
       "4  live:lol:riot:map:esportstmnt01-3373466        4   \n",
       "\n",
       "                   event_date_time  game_time      ward_type  \\\n",
       "0 2023-06-14 21:14:35.125000+00:00      79926  yellowTrinket   \n",
       "1 2023-06-14 21:14:41.603000+00:00      86404  yellowTrinket   \n",
       "2 2023-06-14 21:14:47.263000+00:00      92064  yellowTrinket   \n",
       "3 2023-06-14 21:15:03.016000+00:00     107817  yellowTrinket   \n",
       "4 2023-06-14 21:15:13.961000+00:00     118763  yellowTrinket   \n",
       "\n",
       "                        placer_team_urn placer_team  \\\n",
       "0  live:lol:riot:team:98767991877340524          C9   \n",
       "1  live:lol:riot:team:99294153824386385          GG   \n",
       "2  live:lol:riot:team:99294153824386385          GG   \n",
       "3  live:lol:riot:team:98767991877340524          C9   \n",
       "4  live:lol:riot:team:98767991877340524          C9   \n",
       "\n",
       "                                          placer_urn  placer  pos_x  pos_y  \\\n",
       "0  live:lol:riot:player:8146eacb-7313-3639-ac26-0...  EMENES   9330   5592   \n",
       "1  live:lol:riot:player:6d68f827-0469-30af-878b-3...   River   8566   4872   \n",
       "2  live:lol:riot:player:37643ce5-d0ef-31f1-a000-a...    huhi  10637   3012   \n",
       "3  live:lol:riot:player:7f12e011-7e41-3b24-a73e-4...  Blaber   6492   4684   \n",
       "4  live:lol:riot:player:c5b97127-7d85-3d54-ab35-e...    Zven  12256   1318   \n",
       "\n",
       "                                   placer_team_perid  \\\n",
       "0  esports:team:c2be4c5e-e1e3-4c05-8098-914da28289ab   \n",
       "1  esports:team:44f6a80f-b0b7-432e-b6fe-1127ed555938   \n",
       "2  esports:team:44f6a80f-b0b7-432e-b6fe-1127ed555938   \n",
       "3  esports:team:c2be4c5e-e1e3-4c05-8098-914da28289ab   \n",
       "4  esports:team:c2be4c5e-e1e3-4c05-8098-914da28289ab   \n",
       "\n",
       "                                        placer_perid  \\\n",
       "0  esports:player:c39d6f48-788f-4bf4-9f37-34e816b...   \n",
       "1  esports:player:654a72de-a5ee-44b9-9aa9-149ddd5...   \n",
       "2  esports:player:cd2bc07a-142e-4f89-bb89-b48eff2...   \n",
       "3  esports:player:4021e06c-1d01-4cbe-8a72-990e42b...   \n",
       "4  esports:player:f055bb59-5b23-4ba1-babe-f362412...   \n",
       "\n",
       "                         upsert_at  \n",
       "0 2023-06-14 22:04:24.352030+00:00  \n",
       "1 2023-06-14 22:04:24.352030+00:00  \n",
       "2 2023-06-14 22:04:24.352030+00:00  \n",
       "3 2023-06-14 22:04:24.352030+00:00  \n",
       "4 2023-06-14 22:04:24.352030+00:00  "
      ]
     },
     "execution_count": 15,
     "metadata": {},
     "output_type": "execute_result"
    }
   ],
   "source": [
    "wards.head(5)"
   ]
  },
  {
   "cell_type": "code",
   "execution_count": 16,
   "metadata": {},
   "outputs": [
    {
     "data": {
      "text/plain": [
       "57"
      ]
     },
     "execution_count": 16,
     "metadata": {},
     "output_type": "execute_result"
    }
   ],
   "source": [
    "wards['game_urn'].nunique()"
   ]
  },
  {
   "cell_type": "code",
   "execution_count": 17,
   "metadata": {},
   "outputs": [
    {
     "data": {
      "text/plain": [
       "57"
      ]
     },
     "execution_count": 17,
     "metadata": {},
     "output_type": "execute_result"
    }
   ],
   "source": [
    "game_summary['game_urn'].nunique()"
   ]
  },
  {
   "cell_type": "code",
   "execution_count": 18,
   "metadata": {},
   "outputs": [],
   "source": [
    "test_game = 'live:lol:riot:map:esportstmnt01-3373466'"
   ]
  },
  {
   "cell_type": "code",
   "execution_count": 19,
   "metadata": {},
   "outputs": [],
   "source": [
    "all_wards = wards[wards['game_urn'] == test_game]"
   ]
  },
  {
   "cell_type": "code",
   "execution_count": 20,
   "metadata": {},
   "outputs": [
    {
     "data": {
      "text/html": [
       "<div>\n",
       "<style scoped>\n",
       "    .dataframe tbody tr th:only-of-type {\n",
       "        vertical-align: middle;\n",
       "    }\n",
       "\n",
       "    .dataframe tbody tr th {\n",
       "        vertical-align: top;\n",
       "    }\n",
       "\n",
       "    .dataframe thead th {\n",
       "        text-align: right;\n",
       "    }\n",
       "</style>\n",
       "<table border=\"1\" class=\"dataframe\">\n",
       "  <thead>\n",
       "    <tr style=\"text-align: right;\">\n",
       "      <th></th>\n",
       "      <th>game_urn</th>\n",
       "      <th>seq_idx</th>\n",
       "      <th>event_date_time</th>\n",
       "      <th>game_time</th>\n",
       "      <th>ward_type</th>\n",
       "      <th>placer_team_urn</th>\n",
       "      <th>placer_team</th>\n",
       "      <th>placer_urn</th>\n",
       "      <th>placer</th>\n",
       "      <th>pos_x</th>\n",
       "      <th>pos_y</th>\n",
       "      <th>placer_team_perid</th>\n",
       "      <th>placer_perid</th>\n",
       "      <th>upsert_at</th>\n",
       "    </tr>\n",
       "  </thead>\n",
       "  <tbody>\n",
       "    <tr>\n",
       "      <th>0</th>\n",
       "      <td>live:lol:riot:map:esportstmnt01-3373466</td>\n",
       "      <td>0</td>\n",
       "      <td>2023-06-14 21:14:35.125000+00:00</td>\n",
       "      <td>79926</td>\n",
       "      <td>yellowTrinket</td>\n",
       "      <td>live:lol:riot:team:98767991877340524</td>\n",
       "      <td>C9</td>\n",
       "      <td>live:lol:riot:player:8146eacb-7313-3639-ac26-0...</td>\n",
       "      <td>EMENES</td>\n",
       "      <td>9330</td>\n",
       "      <td>5592</td>\n",
       "      <td>esports:team:c2be4c5e-e1e3-4c05-8098-914da28289ab</td>\n",
       "      <td>esports:player:c39d6f48-788f-4bf4-9f37-34e816b...</td>\n",
       "      <td>2023-06-14 22:04:24.352030+00:00</td>\n",
       "    </tr>\n",
       "  </tbody>\n",
       "</table>\n",
       "</div>"
      ],
      "text/plain": [
       "                                  game_urn  seq_idx  \\\n",
       "0  live:lol:riot:map:esportstmnt01-3373466        0   \n",
       "\n",
       "                   event_date_time  game_time      ward_type  \\\n",
       "0 2023-06-14 21:14:35.125000+00:00      79926  yellowTrinket   \n",
       "\n",
       "                        placer_team_urn placer_team  \\\n",
       "0  live:lol:riot:team:98767991877340524          C9   \n",
       "\n",
       "                                          placer_urn  placer  pos_x  pos_y  \\\n",
       "0  live:lol:riot:player:8146eacb-7313-3639-ac26-0...  EMENES   9330   5592   \n",
       "\n",
       "                                   placer_team_perid  \\\n",
       "0  esports:team:c2be4c5e-e1e3-4c05-8098-914da28289ab   \n",
       "\n",
       "                                        placer_perid  \\\n",
       "0  esports:player:c39d6f48-788f-4bf4-9f37-34e816b...   \n",
       "\n",
       "                         upsert_at  \n",
       "0 2023-06-14 22:04:24.352030+00:00  "
      ]
     },
     "execution_count": 20,
     "metadata": {},
     "output_type": "execute_result"
    }
   ],
   "source": [
    "all_wards.head(1)"
   ]
  },
  {
   "cell_type": "code",
   "execution_count": 21,
   "metadata": {},
   "outputs": [],
   "source": [
    "C9_Wards = wards[wards['game_urn'].isin(C9_games['game_urn'])]"
   ]
  },
  {
   "cell_type": "code",
   "execution_count": 22,
   "metadata": {},
   "outputs": [
    {
     "data": {
      "text/plain": [
       "(6679, 14)"
      ]
     },
     "execution_count": 22,
     "metadata": {},
     "output_type": "execute_result"
    }
   ],
   "source": [
    "C9_Wards.shape"
   ]
  },
  {
   "cell_type": "code",
   "execution_count": 23,
   "metadata": {},
   "outputs": [
    {
     "data": {
      "text/plain": [
       "Index(['game_urn', 'seq_idx', 'event_date_time', 'game_time', 'ward_type',\n",
       "       'placer_team_urn', 'placer_team', 'placer_urn', 'placer', 'pos_x',\n",
       "       'pos_y', 'placer_team_perid', 'placer_perid', 'upsert_at'],\n",
       "      dtype='object')"
      ]
     },
     "execution_count": 23,
     "metadata": {},
     "output_type": "execute_result"
    }
   ],
   "source": [
    "C9_Wards.columns"
   ]
  },
  {
   "cell_type": "code",
   "execution_count": 24,
   "metadata": {},
   "outputs": [],
   "source": [
    "from ipywidgets import interactive"
   ]
  },
  {
   "cell_type": "code",
   "execution_count": 25,
   "metadata": {},
   "outputs": [
    {
     "data": {
      "application/vnd.jupyter.widget-view+json": {
       "model_id": "a9e74248978c4e50a40f9e7bb2ed230b",
       "version_major": 2,
       "version_minor": 0
      },
      "text/plain": [
       "interactive(children=(IntSlider(value=1257, description='timestamp', max=2514), Output()), _dom_classes=('widg…"
      ]
     },
     "metadata": {},
     "output_type": "display_data"
    }
   ],
   "source": [
    "# Load the image\n",
    "lol_map = plt.imread(\"minimap.png\")\n",
    "\n",
    "def generate_heatmap(timestamp, ward_data):\n",
    "    # Set the dimensions of the LoL map for proper overlay\n",
    "    extent = [0, 16_000, 0, 16_000]  # replace max_x_value and max_y_value with the bounds of your game coordinates\n",
    "    \n",
    "    # Filter data up to the given timestamp\n",
    "    relevant_data = ward_data[ward_data['game_time']//1000 <= timestamp]\n",
    "    \n",
    "    # wards are only alive for 90 seconds\n",
    "    relevant_data = relevant_data[relevant_data['game_time']//1000 - timestamp > -90]\n",
    "    \n",
    "    plt.figure(figsize=(10, 10))\n",
    "    \n",
    "    # Display the map image\n",
    "    plt.imshow(lol_map, extent=extent)\n",
    "    \n",
    "    # Generate heatmap\n",
    "    x_scale_factor = 1.075\n",
    "    y_scale_factor = 1.085\n",
    "    sns.kdeplot(x=relevant_data['pos_x']*x_scale_factor, y=relevant_data['pos_y']*y_scale_factor, cmap=\"BuPu\", fill=True, thresh=0.2, alpha=0.6)\n",
    "    \n",
    "    plt.title(f\"Ward Positions at Time: {timestamp//60}min {timestamp%60}sec\")\n",
    "    plt.xlabel('X Coordinate')\n",
    "    plt.ylabel('Y Coordinate')\n",
    "    plt.show()\n",
    "\n",
    "def interactive_heatmap(timestamp):\n",
    "    return generate_heatmap(timestamp, C9_Wards)\n",
    "\n",
    "widget = interactive(interactive_heatmap, \n",
    "                     timestamp=(0, C9_Wards['game_time'].max()//1000, 1))\n",
    "\n",
    "display(widget)"
   ]
  },
  {
   "cell_type": "code",
   "execution_count": 26,
   "metadata": {},
   "outputs": [],
   "source": [
    "C9_Wards = C9_Wards.merge(C9_games[['game_urn', 'team_1_name']], on='game_urn', how='left')\n",
    "C9_Wards['side'] = C9_Wards['team_1_name'].apply(lambda x: 'blue' if x == 'C9' else 'red')"
   ]
  },
  {
   "cell_type": "code",
   "execution_count": 27,
   "metadata": {},
   "outputs": [
    {
     "data": {
      "application/vnd.jupyter.widget-view+json": {
       "model_id": "c762b19cd89a41d2939a42c4a432f5e3",
       "version_major": 2,
       "version_minor": 0
      },
      "text/plain": [
       "interactive(children=(IntSlider(value=1257, description='timestamp', max=2514), Dropdown(description='Side:', …"
      ]
     },
     "metadata": {},
     "output_type": "display_data"
    }
   ],
   "source": [
    "from ipywidgets import interactive, widgets\n",
    "\n",
    "# Load the image\n",
    "lol_map = plt.imread(\"minimap.png\")\n",
    "\n",
    "def generate_scatter_plot(timestamp, side, ward_data):\n",
    "    # Set the dimensions of the LoL map for proper overlay\n",
    "    extent = [0, 16_000, 0, 16_000]  # values based on your provided dimensions\n",
    "    \n",
    "    # Filter data up to the given timestamp\n",
    "    relevant_data = ward_data[ward_data['game_time']//1000 <= timestamp]\n",
    "    \n",
    "    # wards are only alive for 90 seconds\n",
    "    relevant_data = relevant_data[relevant_data['game_time']//1000 - timestamp > -90]\n",
    "    \n",
    "    # Filter based on the selected side\n",
    "    if side != 'both':\n",
    "        relevant_data = relevant_data[relevant_data['side'] == side]\n",
    "    \n",
    "    plt.figure(figsize=(12, 12))\n",
    "    \n",
    "    # Display the map image\n",
    "    plt.imshow(lol_map, extent=extent)\n",
    "    \n",
    "    # Generate scatter plot\n",
    "    # scale the positions to fix positioning\n",
    "    x_scale_factor = 1.075\n",
    "    y_scale_factor = 1.085\n",
    "    plt.scatter(relevant_data['pos_x']*x_scale_factor, relevant_data['pos_y']*y_scale_factor, c=relevant_data['side'], alpha=0.6, s=20)\n",
    "    \n",
    "    plt.title(f\"Ward Positions at Time: {timestamp//60}min {timestamp%60}sec\")\n",
    "    plt.xlabel('X Coordinate')\n",
    "    plt.ylabel('Y Coordinate')\n",
    "    plt.show()\n",
    "\n",
    "def interactive_scatter_plot(timestamp, side):\n",
    "    return generate_scatter_plot(timestamp, side, C9_Wards)\n",
    "\n",
    "# Set up the interactive element:\n",
    "widget = interactive(interactive_scatter_plot, \n",
    "                     timestamp=(0, C9_Wards['game_time'].max()//1000, 1),\n",
    "                     side=widgets.Dropdown(options=['blue', 'red', 'both'], value='both', description='Side:'))\n",
    "\n",
    "display(widget)\n"
   ]
  },
  {
   "cell_type": "code",
   "execution_count": 30,
   "metadata": {},
   "outputs": [
    {
     "ename": "FileNotFoundError",
     "evalue": "[Errno 2] No such file or directory: 'leagueScaled.png'",
     "output_type": "error",
     "traceback": [
      "\u001b[1;31m---------------------------------------------------------------------------\u001b[0m",
      "\u001b[1;31mFileNotFoundError\u001b[0m                         Traceback (most recent call last)",
      "\u001b[1;32mc:\\Repository\\EG-Rats-Analysis\\Visualizations.ipynb Cell 31\u001b[0m line \u001b[0;36m2\n\u001b[0;32m      <a href='vscode-notebook-cell:/c%3A/Repository/EG-Rats-Analysis/Visualizations.ipynb#X42sZmlsZQ%3D%3D?line=0'>1</a>\u001b[0m bg_image_path \u001b[39m=\u001b[39m \u001b[39m'\u001b[39m\u001b[39mleagueScaled.png\u001b[39m\u001b[39m'\u001b[39m\n\u001b[1;32m----> <a href='vscode-notebook-cell:/c%3A/Repository/EG-Rats-Analysis/Visualizations.ipynb#X42sZmlsZQ%3D%3D?line=1'>2</a>\u001b[0m bg_image \u001b[39m=\u001b[39m Image\u001b[39m.\u001b[39;49mopen(bg_image_path)\u001b[39m.\u001b[39mtranspose(Image\u001b[39m.\u001b[39mFLIP_TOP_BOTTOM)\n\u001b[0;32m      <a href='vscode-notebook-cell:/c%3A/Repository/EG-Rats-Analysis/Visualizations.ipynb#X42sZmlsZQ%3D%3D?line=3'>4</a>\u001b[0m fig, ax \u001b[39m=\u001b[39m plt\u001b[39m.\u001b[39msubplots()\n\u001b[0;32m      <a href='vscode-notebook-cell:/c%3A/Repository/EG-Rats-Analysis/Visualizations.ipynb#X42sZmlsZQ%3D%3D?line=4'>5</a>\u001b[0m ax\u001b[39m.\u001b[39mimshow(bg_image)\n",
      "File \u001b[1;32mc:\\Repository\\EG-Rats-Analysis\\env\\Lib\\site-packages\\PIL\\Image.py:3243\u001b[0m, in \u001b[0;36mopen\u001b[1;34m(fp, mode, formats)\u001b[0m\n\u001b[0;32m   3240\u001b[0m     filename \u001b[39m=\u001b[39m fp\n\u001b[0;32m   3242\u001b[0m \u001b[39mif\u001b[39;00m filename:\n\u001b[1;32m-> 3243\u001b[0m     fp \u001b[39m=\u001b[39m builtins\u001b[39m.\u001b[39;49mopen(filename, \u001b[39m\"\u001b[39;49m\u001b[39mrb\u001b[39;49m\u001b[39m\"\u001b[39;49m)\n\u001b[0;32m   3244\u001b[0m     exclusive_fp \u001b[39m=\u001b[39m \u001b[39mTrue\u001b[39;00m\n\u001b[0;32m   3246\u001b[0m \u001b[39mtry\u001b[39;00m:\n",
      "\u001b[1;31mFileNotFoundError\u001b[0m: [Errno 2] No such file or directory: 'leagueScaled.png'"
     ]
    }
   ],
   "source": [
    "bg_image_path = 'leagueScaled.png'\n",
    "bg_image = Image.open(bg_image_path).transpose(Image.FLIP_TOP_BOTTOM)\n",
    "\n",
    "fig, ax = plt.subplots()\n",
    "ax.imshow(bg_image)\n",
    "ax.set_xlim(0, bg_image.width)\n",
    "ax.set_ylim(0, bg_image.height)\n",
    "print(bg_image.width)\n",
    "print(bg_image.height)\n",
    "\n",
    "scale_factor = 9.3\n",
    "\n",
    "for x, y in all_wards[['pos_x', 'pos_y']].to_numpy():\n",
    "    ax.plot(x/scale_factor, y/scale_factor, 'ro')\n",
    "\n",
    "plt.show()"
   ]
  },
  {
   "cell_type": "code",
   "execution_count": null,
   "metadata": {},
   "outputs": [
    {
     "data": {
      "application/vnd.plotly.v1+json": {
       "config": {
        "plotlyServerURL": "https://plot.ly"
       },
       "data": [],
       "layout": {
        "images": [
         {
          "layer": "below",
          "opacity": 1,
          "sizex": 1600,
          "sizey": 900,
          "source": "LoL-minimap.jpg",
          "x": 0,
          "xref": "x",
          "y": 0,
          "yref": "y"
         }
        ],
        "shapes": [
         {
          "line": {
           "color": "cyan"
          },
          "type": "line",
          "x0": 650,
          "x1": 1080,
          "xref": "x",
          "y0": 380,
          "y1": 180,
          "yref": "y"
         }
        ],
        "template": {
         "data": {
          "bar": [
           {
            "error_x": {
             "color": "#2a3f5f"
            },
            "error_y": {
             "color": "#2a3f5f"
            },
            "marker": {
             "line": {
              "color": "#E5ECF6",
              "width": 0.5
             },
             "pattern": {
              "fillmode": "overlay",
              "size": 10,
              "solidity": 0.2
             }
            },
            "type": "bar"
           }
          ],
          "barpolar": [
           {
            "marker": {
             "line": {
              "color": "#E5ECF6",
              "width": 0.5
             },
             "pattern": {
              "fillmode": "overlay",
              "size": 10,
              "solidity": 0.2
             }
            },
            "type": "barpolar"
           }
          ],
          "carpet": [
           {
            "aaxis": {
             "endlinecolor": "#2a3f5f",
             "gridcolor": "white",
             "linecolor": "white",
             "minorgridcolor": "white",
             "startlinecolor": "#2a3f5f"
            },
            "baxis": {
             "endlinecolor": "#2a3f5f",
             "gridcolor": "white",
             "linecolor": "white",
             "minorgridcolor": "white",
             "startlinecolor": "#2a3f5f"
            },
            "type": "carpet"
           }
          ],
          "choropleth": [
           {
            "colorbar": {
             "outlinewidth": 0,
             "ticks": ""
            },
            "type": "choropleth"
           }
          ],
          "contour": [
           {
            "colorbar": {
             "outlinewidth": 0,
             "ticks": ""
            },
            "colorscale": [
             [
              0,
              "#0d0887"
             ],
             [
              0.1111111111111111,
              "#46039f"
             ],
             [
              0.2222222222222222,
              "#7201a8"
             ],
             [
              0.3333333333333333,
              "#9c179e"
             ],
             [
              0.4444444444444444,
              "#bd3786"
             ],
             [
              0.5555555555555556,
              "#d8576b"
             ],
             [
              0.6666666666666666,
              "#ed7953"
             ],
             [
              0.7777777777777778,
              "#fb9f3a"
             ],
             [
              0.8888888888888888,
              "#fdca26"
             ],
             [
              1,
              "#f0f921"
             ]
            ],
            "type": "contour"
           }
          ],
          "contourcarpet": [
           {
            "colorbar": {
             "outlinewidth": 0,
             "ticks": ""
            },
            "type": "contourcarpet"
           }
          ],
          "heatmap": [
           {
            "colorbar": {
             "outlinewidth": 0,
             "ticks": ""
            },
            "colorscale": [
             [
              0,
              "#0d0887"
             ],
             [
              0.1111111111111111,
              "#46039f"
             ],
             [
              0.2222222222222222,
              "#7201a8"
             ],
             [
              0.3333333333333333,
              "#9c179e"
             ],
             [
              0.4444444444444444,
              "#bd3786"
             ],
             [
              0.5555555555555556,
              "#d8576b"
             ],
             [
              0.6666666666666666,
              "#ed7953"
             ],
             [
              0.7777777777777778,
              "#fb9f3a"
             ],
             [
              0.8888888888888888,
              "#fdca26"
             ],
             [
              1,
              "#f0f921"
             ]
            ],
            "type": "heatmap"
           }
          ],
          "heatmapgl": [
           {
            "colorbar": {
             "outlinewidth": 0,
             "ticks": ""
            },
            "colorscale": [
             [
              0,
              "#0d0887"
             ],
             [
              0.1111111111111111,
              "#46039f"
             ],
             [
              0.2222222222222222,
              "#7201a8"
             ],
             [
              0.3333333333333333,
              "#9c179e"
             ],
             [
              0.4444444444444444,
              "#bd3786"
             ],
             [
              0.5555555555555556,
              "#d8576b"
             ],
             [
              0.6666666666666666,
              "#ed7953"
             ],
             [
              0.7777777777777778,
              "#fb9f3a"
             ],
             [
              0.8888888888888888,
              "#fdca26"
             ],
             [
              1,
              "#f0f921"
             ]
            ],
            "type": "heatmapgl"
           }
          ],
          "histogram": [
           {
            "marker": {
             "pattern": {
              "fillmode": "overlay",
              "size": 10,
              "solidity": 0.2
             }
            },
            "type": "histogram"
           }
          ],
          "histogram2d": [
           {
            "colorbar": {
             "outlinewidth": 0,
             "ticks": ""
            },
            "colorscale": [
             [
              0,
              "#0d0887"
             ],
             [
              0.1111111111111111,
              "#46039f"
             ],
             [
              0.2222222222222222,
              "#7201a8"
             ],
             [
              0.3333333333333333,
              "#9c179e"
             ],
             [
              0.4444444444444444,
              "#bd3786"
             ],
             [
              0.5555555555555556,
              "#d8576b"
             ],
             [
              0.6666666666666666,
              "#ed7953"
             ],
             [
              0.7777777777777778,
              "#fb9f3a"
             ],
             [
              0.8888888888888888,
              "#fdca26"
             ],
             [
              1,
              "#f0f921"
             ]
            ],
            "type": "histogram2d"
           }
          ],
          "histogram2dcontour": [
           {
            "colorbar": {
             "outlinewidth": 0,
             "ticks": ""
            },
            "colorscale": [
             [
              0,
              "#0d0887"
             ],
             [
              0.1111111111111111,
              "#46039f"
             ],
             [
              0.2222222222222222,
              "#7201a8"
             ],
             [
              0.3333333333333333,
              "#9c179e"
             ],
             [
              0.4444444444444444,
              "#bd3786"
             ],
             [
              0.5555555555555556,
              "#d8576b"
             ],
             [
              0.6666666666666666,
              "#ed7953"
             ],
             [
              0.7777777777777778,
              "#fb9f3a"
             ],
             [
              0.8888888888888888,
              "#fdca26"
             ],
             [
              1,
              "#f0f921"
             ]
            ],
            "type": "histogram2dcontour"
           }
          ],
          "mesh3d": [
           {
            "colorbar": {
             "outlinewidth": 0,
             "ticks": ""
            },
            "type": "mesh3d"
           }
          ],
          "parcoords": [
           {
            "line": {
             "colorbar": {
              "outlinewidth": 0,
              "ticks": ""
             }
            },
            "type": "parcoords"
           }
          ],
          "pie": [
           {
            "automargin": true,
            "type": "pie"
           }
          ],
          "scatter": [
           {
            "fillpattern": {
             "fillmode": "overlay",
             "size": 10,
             "solidity": 0.2
            },
            "type": "scatter"
           }
          ],
          "scatter3d": [
           {
            "line": {
             "colorbar": {
              "outlinewidth": 0,
              "ticks": ""
             }
            },
            "marker": {
             "colorbar": {
              "outlinewidth": 0,
              "ticks": ""
             }
            },
            "type": "scatter3d"
           }
          ],
          "scattercarpet": [
           {
            "marker": {
             "colorbar": {
              "outlinewidth": 0,
              "ticks": ""
             }
            },
            "type": "scattercarpet"
           }
          ],
          "scattergeo": [
           {
            "marker": {
             "colorbar": {
              "outlinewidth": 0,
              "ticks": ""
             }
            },
            "type": "scattergeo"
           }
          ],
          "scattergl": [
           {
            "marker": {
             "colorbar": {
              "outlinewidth": 0,
              "ticks": ""
             }
            },
            "type": "scattergl"
           }
          ],
          "scattermapbox": [
           {
            "marker": {
             "colorbar": {
              "outlinewidth": 0,
              "ticks": ""
             }
            },
            "type": "scattermapbox"
           }
          ],
          "scatterpolar": [
           {
            "marker": {
             "colorbar": {
              "outlinewidth": 0,
              "ticks": ""
             }
            },
            "type": "scatterpolar"
           }
          ],
          "scatterpolargl": [
           {
            "marker": {
             "colorbar": {
              "outlinewidth": 0,
              "ticks": ""
             }
            },
            "type": "scatterpolargl"
           }
          ],
          "scatterternary": [
           {
            "marker": {
             "colorbar": {
              "outlinewidth": 0,
              "ticks": ""
             }
            },
            "type": "scatterternary"
           }
          ],
          "surface": [
           {
            "colorbar": {
             "outlinewidth": 0,
             "ticks": ""
            },
            "colorscale": [
             [
              0,
              "#0d0887"
             ],
             [
              0.1111111111111111,
              "#46039f"
             ],
             [
              0.2222222222222222,
              "#7201a8"
             ],
             [
              0.3333333333333333,
              "#9c179e"
             ],
             [
              0.4444444444444444,
              "#bd3786"
             ],
             [
              0.5555555555555556,
              "#d8576b"
             ],
             [
              0.6666666666666666,
              "#ed7953"
             ],
             [
              0.7777777777777778,
              "#fb9f3a"
             ],
             [
              0.8888888888888888,
              "#fdca26"
             ],
             [
              1,
              "#f0f921"
             ]
            ],
            "type": "surface"
           }
          ],
          "table": [
           {
            "cells": {
             "fill": {
              "color": "#EBF0F8"
             },
             "line": {
              "color": "white"
             }
            },
            "header": {
             "fill": {
              "color": "#C8D4E3"
             },
             "line": {
              "color": "white"
             }
            },
            "type": "table"
           }
          ]
         },
         "layout": {
          "annotationdefaults": {
           "arrowcolor": "#2a3f5f",
           "arrowhead": 0,
           "arrowwidth": 1
          },
          "autotypenumbers": "strict",
          "coloraxis": {
           "colorbar": {
            "outlinewidth": 0,
            "ticks": ""
           }
          },
          "colorscale": {
           "diverging": [
            [
             0,
             "#8e0152"
            ],
            [
             0.1,
             "#c51b7d"
            ],
            [
             0.2,
             "#de77ae"
            ],
            [
             0.3,
             "#f1b6da"
            ],
            [
             0.4,
             "#fde0ef"
            ],
            [
             0.5,
             "#f7f7f7"
            ],
            [
             0.6,
             "#e6f5d0"
            ],
            [
             0.7,
             "#b8e186"
            ],
            [
             0.8,
             "#7fbc41"
            ],
            [
             0.9,
             "#4d9221"
            ],
            [
             1,
             "#276419"
            ]
           ],
           "sequential": [
            [
             0,
             "#0d0887"
            ],
            [
             0.1111111111111111,
             "#46039f"
            ],
            [
             0.2222222222222222,
             "#7201a8"
            ],
            [
             0.3333333333333333,
             "#9c179e"
            ],
            [
             0.4444444444444444,
             "#bd3786"
            ],
            [
             0.5555555555555556,
             "#d8576b"
            ],
            [
             0.6666666666666666,
             "#ed7953"
            ],
            [
             0.7777777777777778,
             "#fb9f3a"
            ],
            [
             0.8888888888888888,
             "#fdca26"
            ],
            [
             1,
             "#f0f921"
            ]
           ],
           "sequentialminus": [
            [
             0,
             "#0d0887"
            ],
            [
             0.1111111111111111,
             "#46039f"
            ],
            [
             0.2222222222222222,
             "#7201a8"
            ],
            [
             0.3333333333333333,
             "#9c179e"
            ],
            [
             0.4444444444444444,
             "#bd3786"
            ],
            [
             0.5555555555555556,
             "#d8576b"
            ],
            [
             0.6666666666666666,
             "#ed7953"
            ],
            [
             0.7777777777777778,
             "#fb9f3a"
            ],
            [
             0.8888888888888888,
             "#fdca26"
            ],
            [
             1,
             "#f0f921"
            ]
           ]
          },
          "colorway": [
           "#636efa",
           "#EF553B",
           "#00cc96",
           "#ab63fa",
           "#FFA15A",
           "#19d3f3",
           "#FF6692",
           "#B6E880",
           "#FF97FF",
           "#FECB52"
          ],
          "font": {
           "color": "#2a3f5f"
          },
          "geo": {
           "bgcolor": "white",
           "lakecolor": "white",
           "landcolor": "#E5ECF6",
           "showlakes": true,
           "showland": true,
           "subunitcolor": "white"
          },
          "hoverlabel": {
           "align": "left"
          },
          "hovermode": "closest",
          "mapbox": {
           "style": "light"
          },
          "paper_bgcolor": "white",
          "plot_bgcolor": "#E5ECF6",
          "polar": {
           "angularaxis": {
            "gridcolor": "white",
            "linecolor": "white",
            "ticks": ""
           },
           "bgcolor": "#E5ECF6",
           "radialaxis": {
            "gridcolor": "white",
            "linecolor": "white",
            "ticks": ""
           }
          },
          "scene": {
           "xaxis": {
            "backgroundcolor": "#E5ECF6",
            "gridcolor": "white",
            "gridwidth": 2,
            "linecolor": "white",
            "showbackground": true,
            "ticks": "",
            "zerolinecolor": "white"
           },
           "yaxis": {
            "backgroundcolor": "#E5ECF6",
            "gridcolor": "white",
            "gridwidth": 2,
            "linecolor": "white",
            "showbackground": true,
            "ticks": "",
            "zerolinecolor": "white"
           },
           "zaxis": {
            "backgroundcolor": "#E5ECF6",
            "gridcolor": "white",
            "gridwidth": 2,
            "linecolor": "white",
            "showbackground": true,
            "ticks": "",
            "zerolinecolor": "white"
           }
          },
          "shapedefaults": {
           "line": {
            "color": "#2a3f5f"
           }
          },
          "ternary": {
           "aaxis": {
            "gridcolor": "white",
            "linecolor": "white",
            "ticks": ""
           },
           "baxis": {
            "gridcolor": "white",
            "linecolor": "white",
            "ticks": ""
           },
           "bgcolor": "#E5ECF6",
           "caxis": {
            "gridcolor": "white",
            "linecolor": "white",
            "ticks": ""
           }
          },
          "title": {
           "x": 0.05
          },
          "xaxis": {
           "automargin": true,
           "gridcolor": "white",
           "linecolor": "white",
           "ticks": "",
           "title": {
            "standoff": 15
           },
           "zerolinecolor": "white",
           "zerolinewidth": 2
          },
          "yaxis": {
           "automargin": true,
           "gridcolor": "white",
           "linecolor": "white",
           "ticks": "",
           "title": {
            "standoff": 15
           },
           "zerolinecolor": "white",
           "zerolinewidth": 2
          }
         }
        },
        "xaxis": {
         "range": [
          0,
          1600
         ],
         "showgrid": false
        },
        "yaxis": {
         "range": [
          900,
          0
         ],
         "scaleanchor": "x",
         "showgrid": false
        }
       }
      }
     },
     "metadata": {},
     "output_type": "display_data"
    }
   ],
   "source": [
    "fig = go.Figure()\n",
    "# Add image\n",
    "img_width = 1600\n",
    "img_height = 900\n",
    "scale_factor = 0.5\n",
    "fig.add_layout_image(\n",
    "        x=0,\n",
    "        sizex=img_width,\n",
    "        y=0,\n",
    "        sizey=img_height,\n",
    "        xref=\"x\",\n",
    "        yref=\"y\",\n",
    "        opacity=1.0,\n",
    "        layer=\"below\",\n",
    "        source=\"LoL-minimap.jpg\"\n",
    ")\n",
    "fig.update_xaxes(showgrid=False, range=(0, img_width))\n",
    "fig.update_yaxes(showgrid=False, scaleanchor='x', range=(img_height, 0))"
   ]
  },
  {
   "cell_type": "code",
   "execution_count": null,
   "metadata": {},
   "outputs": [
    {
     "data": {
      "application/vnd.plotly.v1+json": {
       "config": {
        "plotlyServerURL": "https://plot.ly"
       },
       "data": [
        {
         "hovertemplate": "pos_x=%{x}<br>pos_y=%{y}<extra></extra>",
         "legendgroup": "",
         "marker": {
          "color": "#636efa",
          "symbol": "circle"
         },
         "mode": "markers",
         "name": "",
         "orientation": "v",
         "showlegend": false,
         "type": "scatter",
         "x": [
          9330,
          8566,
          10637,
          6492,
          12256,
          5690,
          10238,
          4156,
          10488,
          2956,
          10632,
          10984,
          8006,
          12194,
          10284,
          6594,
          11150,
          11140,
          4322,
          12198,
          8270,
          9666,
          12416,
          8228,
          11810,
          11665,
          11876,
          9770,
          8974,
          8528,
          8482,
          7832,
          6374,
          11832,
          12232,
          6266,
          10450,
          4833,
          4530,
          10436,
          2986,
          11159,
          7923,
          12562,
          10862,
          9314,
          10590,
          10308,
          10642,
          12654,
          9360,
          9248,
          8556,
          4440,
          8110,
          9668,
          9330,
          11092,
          11806,
          6926,
          4418,
          10886,
          8104,
          8384,
          11021,
          13450,
          9334,
          11748,
          9920,
          12346,
          8512,
          9736,
          7920,
          5340,
          6906,
          11724,
          8614,
          8938,
          9911,
          7750,
          10100,
          10364,
          12932,
          11920,
          5426,
          6768,
          6253,
          8502,
          11938,
          5423,
          5154,
          3126,
          3126,
          5316,
          2336,
          4458,
          12588,
          8168,
          10974,
          11948,
          9373,
          9682,
          6717,
          13084,
          9301,
          6940,
          11002,
          8679,
          7285,
          8973,
          9806,
          8142,
          9918,
          10004,
          8208,
          8256,
          6686,
          10018,
          10060,
          4562,
          3114,
          2362,
          5120,
          11850,
          7088,
          6474,
          12504,
          9674,
          9350,
          10304,
          8260,
          8029,
          6973,
          5764,
          8252,
          9316,
          9744,
          8940,
          8064,
          8650,
          3002,
          6608,
          11888,
          6804,
          5479,
          5362,
          6154,
          12594,
          10022,
          9238,
          7928,
          5302,
          6786,
          9308,
          5342,
          6516,
          7880,
          6426,
          7506,
          8534,
          8040,
          9322,
          9174,
          9706,
          10146,
          10184,
          11544,
          10018,
          9961,
          4934,
          9412,
          9356,
          8360,
          8010,
          8602,
          7006,
          8342,
          7756,
          8222,
          8600,
          7892,
          5928,
          5770,
          7948,
          6407,
          8456,
          10212,
          13960
         ],
         "xaxis": "x",
         "y": [
          5592,
          4872,
          3012,
          4684,
          1318,
          8806,
          2210,
          11864,
          1236,
          11210,
          3046,
          1600,
          5320,
          1338,
          2882,
          4742,
          1484,
          1580,
          808,
          1284,
          5604,
          6302,
          2730,
          6248,
          5970,
          5100,
          3678,
          6460,
          4416,
          4838,
          6512,
          4948,
          9318,
          1540,
          1298,
          8078,
          2396,
          10924,
          11900,
          1248,
          11120,
          3242,
          9306,
          3068,
          4914,
          5696,
          3018,
          3186,
          3008,
          2790,
          5674,
          3876,
          4870,
          11852,
          6248,
          6899,
          5658,
          2165,
          3794,
          8566,
          11762,
          4860,
          6176,
          6444,
          6356,
          2586,
          5698,
          4042,
          4436,
          1460,
          4892,
          2766,
          3498,
          9076,
          9896,
          3972,
          4668,
          3630,
          2338,
          5020,
          970,
          3102,
          1850,
          3674,
          10758,
          8434,
          8042,
          4862,
          3708,
          7924,
          9084,
          8996,
          9010,
          7586,
          9728,
          8186,
          5354,
          6194,
          5228,
          5917,
          7005,
          6294,
          4911,
          2044,
          7003,
          8564,
          6346,
          6762,
          6551,
          7207,
          6402,
          7710,
          7804,
          7744,
          7892,
          8324,
          8406,
          5054,
          7750,
          8106,
          9004,
          9670,
          8446,
          3882,
          9648,
          11354,
          1416,
          6348,
          5656,
          5322,
          5536,
          5913,
          5605,
          6040,
          6294,
          5704,
          4258,
          4658,
          6202,
          6570,
          11066,
          9084,
          3812,
          8482,
          10405,
          9188,
          6320,
          5054,
          7766,
          7520,
          7946,
          9040,
          9302,
          5676,
          9108,
          4732,
          5118,
          6206,
          5864,
          6588,
          6162,
          5688,
          7058,
          6330,
          6856,
          7958,
          7516,
          8064,
          7710,
          10222,
          7230,
          5688,
          8572,
          7990,
          6576,
          9498,
          8184,
          11046,
          10252,
          11778,
          11888,
          12724,
          12680,
          11800,
          12823,
          12420,
          13176,
          13326
         ],
         "yaxis": "y"
        }
       ],
       "layout": {
        "images": [
         {
          "layer": "below",
          "opacity": 1,
          "sizex": 1600,
          "sizey": 900,
          "source": "LoL-minimap.jpg",
          "x": 0,
          "xref": "x",
          "y": 0,
          "yref": "y"
         }
        ],
        "legend": {
         "tracegroupgap": 0
        },
        "margin": {
         "t": 60
        },
        "template": {
         "data": {
          "bar": [
           {
            "error_x": {
             "color": "#2a3f5f"
            },
            "error_y": {
             "color": "#2a3f5f"
            },
            "marker": {
             "line": {
              "color": "#E5ECF6",
              "width": 0.5
             },
             "pattern": {
              "fillmode": "overlay",
              "size": 10,
              "solidity": 0.2
             }
            },
            "type": "bar"
           }
          ],
          "barpolar": [
           {
            "marker": {
             "line": {
              "color": "#E5ECF6",
              "width": 0.5
             },
             "pattern": {
              "fillmode": "overlay",
              "size": 10,
              "solidity": 0.2
             }
            },
            "type": "barpolar"
           }
          ],
          "carpet": [
           {
            "aaxis": {
             "endlinecolor": "#2a3f5f",
             "gridcolor": "white",
             "linecolor": "white",
             "minorgridcolor": "white",
             "startlinecolor": "#2a3f5f"
            },
            "baxis": {
             "endlinecolor": "#2a3f5f",
             "gridcolor": "white",
             "linecolor": "white",
             "minorgridcolor": "white",
             "startlinecolor": "#2a3f5f"
            },
            "type": "carpet"
           }
          ],
          "choropleth": [
           {
            "colorbar": {
             "outlinewidth": 0,
             "ticks": ""
            },
            "type": "choropleth"
           }
          ],
          "contour": [
           {
            "colorbar": {
             "outlinewidth": 0,
             "ticks": ""
            },
            "colorscale": [
             [
              0,
              "#0d0887"
             ],
             [
              0.1111111111111111,
              "#46039f"
             ],
             [
              0.2222222222222222,
              "#7201a8"
             ],
             [
              0.3333333333333333,
              "#9c179e"
             ],
             [
              0.4444444444444444,
              "#bd3786"
             ],
             [
              0.5555555555555556,
              "#d8576b"
             ],
             [
              0.6666666666666666,
              "#ed7953"
             ],
             [
              0.7777777777777778,
              "#fb9f3a"
             ],
             [
              0.8888888888888888,
              "#fdca26"
             ],
             [
              1,
              "#f0f921"
             ]
            ],
            "type": "contour"
           }
          ],
          "contourcarpet": [
           {
            "colorbar": {
             "outlinewidth": 0,
             "ticks": ""
            },
            "type": "contourcarpet"
           }
          ],
          "heatmap": [
           {
            "colorbar": {
             "outlinewidth": 0,
             "ticks": ""
            },
            "colorscale": [
             [
              0,
              "#0d0887"
             ],
             [
              0.1111111111111111,
              "#46039f"
             ],
             [
              0.2222222222222222,
              "#7201a8"
             ],
             [
              0.3333333333333333,
              "#9c179e"
             ],
             [
              0.4444444444444444,
              "#bd3786"
             ],
             [
              0.5555555555555556,
              "#d8576b"
             ],
             [
              0.6666666666666666,
              "#ed7953"
             ],
             [
              0.7777777777777778,
              "#fb9f3a"
             ],
             [
              0.8888888888888888,
              "#fdca26"
             ],
             [
              1,
              "#f0f921"
             ]
            ],
            "type": "heatmap"
           }
          ],
          "heatmapgl": [
           {
            "colorbar": {
             "outlinewidth": 0,
             "ticks": ""
            },
            "colorscale": [
             [
              0,
              "#0d0887"
             ],
             [
              0.1111111111111111,
              "#46039f"
             ],
             [
              0.2222222222222222,
              "#7201a8"
             ],
             [
              0.3333333333333333,
              "#9c179e"
             ],
             [
              0.4444444444444444,
              "#bd3786"
             ],
             [
              0.5555555555555556,
              "#d8576b"
             ],
             [
              0.6666666666666666,
              "#ed7953"
             ],
             [
              0.7777777777777778,
              "#fb9f3a"
             ],
             [
              0.8888888888888888,
              "#fdca26"
             ],
             [
              1,
              "#f0f921"
             ]
            ],
            "type": "heatmapgl"
           }
          ],
          "histogram": [
           {
            "marker": {
             "pattern": {
              "fillmode": "overlay",
              "size": 10,
              "solidity": 0.2
             }
            },
            "type": "histogram"
           }
          ],
          "histogram2d": [
           {
            "colorbar": {
             "outlinewidth": 0,
             "ticks": ""
            },
            "colorscale": [
             [
              0,
              "#0d0887"
             ],
             [
              0.1111111111111111,
              "#46039f"
             ],
             [
              0.2222222222222222,
              "#7201a8"
             ],
             [
              0.3333333333333333,
              "#9c179e"
             ],
             [
              0.4444444444444444,
              "#bd3786"
             ],
             [
              0.5555555555555556,
              "#d8576b"
             ],
             [
              0.6666666666666666,
              "#ed7953"
             ],
             [
              0.7777777777777778,
              "#fb9f3a"
             ],
             [
              0.8888888888888888,
              "#fdca26"
             ],
             [
              1,
              "#f0f921"
             ]
            ],
            "type": "histogram2d"
           }
          ],
          "histogram2dcontour": [
           {
            "colorbar": {
             "outlinewidth": 0,
             "ticks": ""
            },
            "colorscale": [
             [
              0,
              "#0d0887"
             ],
             [
              0.1111111111111111,
              "#46039f"
             ],
             [
              0.2222222222222222,
              "#7201a8"
             ],
             [
              0.3333333333333333,
              "#9c179e"
             ],
             [
              0.4444444444444444,
              "#bd3786"
             ],
             [
              0.5555555555555556,
              "#d8576b"
             ],
             [
              0.6666666666666666,
              "#ed7953"
             ],
             [
              0.7777777777777778,
              "#fb9f3a"
             ],
             [
              0.8888888888888888,
              "#fdca26"
             ],
             [
              1,
              "#f0f921"
             ]
            ],
            "type": "histogram2dcontour"
           }
          ],
          "mesh3d": [
           {
            "colorbar": {
             "outlinewidth": 0,
             "ticks": ""
            },
            "type": "mesh3d"
           }
          ],
          "parcoords": [
           {
            "line": {
             "colorbar": {
              "outlinewidth": 0,
              "ticks": ""
             }
            },
            "type": "parcoords"
           }
          ],
          "pie": [
           {
            "automargin": true,
            "type": "pie"
           }
          ],
          "scatter": [
           {
            "fillpattern": {
             "fillmode": "overlay",
             "size": 10,
             "solidity": 0.2
            },
            "type": "scatter"
           }
          ],
          "scatter3d": [
           {
            "line": {
             "colorbar": {
              "outlinewidth": 0,
              "ticks": ""
             }
            },
            "marker": {
             "colorbar": {
              "outlinewidth": 0,
              "ticks": ""
             }
            },
            "type": "scatter3d"
           }
          ],
          "scattercarpet": [
           {
            "marker": {
             "colorbar": {
              "outlinewidth": 0,
              "ticks": ""
             }
            },
            "type": "scattercarpet"
           }
          ],
          "scattergeo": [
           {
            "marker": {
             "colorbar": {
              "outlinewidth": 0,
              "ticks": ""
             }
            },
            "type": "scattergeo"
           }
          ],
          "scattergl": [
           {
            "marker": {
             "colorbar": {
              "outlinewidth": 0,
              "ticks": ""
             }
            },
            "type": "scattergl"
           }
          ],
          "scattermapbox": [
           {
            "marker": {
             "colorbar": {
              "outlinewidth": 0,
              "ticks": ""
             }
            },
            "type": "scattermapbox"
           }
          ],
          "scatterpolar": [
           {
            "marker": {
             "colorbar": {
              "outlinewidth": 0,
              "ticks": ""
             }
            },
            "type": "scatterpolar"
           }
          ],
          "scatterpolargl": [
           {
            "marker": {
             "colorbar": {
              "outlinewidth": 0,
              "ticks": ""
             }
            },
            "type": "scatterpolargl"
           }
          ],
          "scatterternary": [
           {
            "marker": {
             "colorbar": {
              "outlinewidth": 0,
              "ticks": ""
             }
            },
            "type": "scatterternary"
           }
          ],
          "surface": [
           {
            "colorbar": {
             "outlinewidth": 0,
             "ticks": ""
            },
            "colorscale": [
             [
              0,
              "#0d0887"
             ],
             [
              0.1111111111111111,
              "#46039f"
             ],
             [
              0.2222222222222222,
              "#7201a8"
             ],
             [
              0.3333333333333333,
              "#9c179e"
             ],
             [
              0.4444444444444444,
              "#bd3786"
             ],
             [
              0.5555555555555556,
              "#d8576b"
             ],
             [
              0.6666666666666666,
              "#ed7953"
             ],
             [
              0.7777777777777778,
              "#fb9f3a"
             ],
             [
              0.8888888888888888,
              "#fdca26"
             ],
             [
              1,
              "#f0f921"
             ]
            ],
            "type": "surface"
           }
          ],
          "table": [
           {
            "cells": {
             "fill": {
              "color": "#EBF0F8"
             },
             "line": {
              "color": "white"
             }
            },
            "header": {
             "fill": {
              "color": "#C8D4E3"
             },
             "line": {
              "color": "white"
             }
            },
            "type": "table"
           }
          ]
         },
         "layout": {
          "annotationdefaults": {
           "arrowcolor": "#2a3f5f",
           "arrowhead": 0,
           "arrowwidth": 1
          },
          "autotypenumbers": "strict",
          "coloraxis": {
           "colorbar": {
            "outlinewidth": 0,
            "ticks": ""
           }
          },
          "colorscale": {
           "diverging": [
            [
             0,
             "#8e0152"
            ],
            [
             0.1,
             "#c51b7d"
            ],
            [
             0.2,
             "#de77ae"
            ],
            [
             0.3,
             "#f1b6da"
            ],
            [
             0.4,
             "#fde0ef"
            ],
            [
             0.5,
             "#f7f7f7"
            ],
            [
             0.6,
             "#e6f5d0"
            ],
            [
             0.7,
             "#b8e186"
            ],
            [
             0.8,
             "#7fbc41"
            ],
            [
             0.9,
             "#4d9221"
            ],
            [
             1,
             "#276419"
            ]
           ],
           "sequential": [
            [
             0,
             "#0d0887"
            ],
            [
             0.1111111111111111,
             "#46039f"
            ],
            [
             0.2222222222222222,
             "#7201a8"
            ],
            [
             0.3333333333333333,
             "#9c179e"
            ],
            [
             0.4444444444444444,
             "#bd3786"
            ],
            [
             0.5555555555555556,
             "#d8576b"
            ],
            [
             0.6666666666666666,
             "#ed7953"
            ],
            [
             0.7777777777777778,
             "#fb9f3a"
            ],
            [
             0.8888888888888888,
             "#fdca26"
            ],
            [
             1,
             "#f0f921"
            ]
           ],
           "sequentialminus": [
            [
             0,
             "#0d0887"
            ],
            [
             0.1111111111111111,
             "#46039f"
            ],
            [
             0.2222222222222222,
             "#7201a8"
            ],
            [
             0.3333333333333333,
             "#9c179e"
            ],
            [
             0.4444444444444444,
             "#bd3786"
            ],
            [
             0.5555555555555556,
             "#d8576b"
            ],
            [
             0.6666666666666666,
             "#ed7953"
            ],
            [
             0.7777777777777778,
             "#fb9f3a"
            ],
            [
             0.8888888888888888,
             "#fdca26"
            ],
            [
             1,
             "#f0f921"
            ]
           ]
          },
          "colorway": [
           "#636efa",
           "#EF553B",
           "#00cc96",
           "#ab63fa",
           "#FFA15A",
           "#19d3f3",
           "#FF6692",
           "#B6E880",
           "#FF97FF",
           "#FECB52"
          ],
          "font": {
           "color": "#2a3f5f"
          },
          "geo": {
           "bgcolor": "white",
           "lakecolor": "white",
           "landcolor": "#E5ECF6",
           "showlakes": true,
           "showland": true,
           "subunitcolor": "white"
          },
          "hoverlabel": {
           "align": "left"
          },
          "hovermode": "closest",
          "mapbox": {
           "style": "light"
          },
          "paper_bgcolor": "white",
          "plot_bgcolor": "#E5ECF6",
          "polar": {
           "angularaxis": {
            "gridcolor": "white",
            "linecolor": "white",
            "ticks": ""
           },
           "bgcolor": "#E5ECF6",
           "radialaxis": {
            "gridcolor": "white",
            "linecolor": "white",
            "ticks": ""
           }
          },
          "scene": {
           "xaxis": {
            "backgroundcolor": "#E5ECF6",
            "gridcolor": "white",
            "gridwidth": 2,
            "linecolor": "white",
            "showbackground": true,
            "ticks": "",
            "zerolinecolor": "white"
           },
           "yaxis": {
            "backgroundcolor": "#E5ECF6",
            "gridcolor": "white",
            "gridwidth": 2,
            "linecolor": "white",
            "showbackground": true,
            "ticks": "",
            "zerolinecolor": "white"
           },
           "zaxis": {
            "backgroundcolor": "#E5ECF6",
            "gridcolor": "white",
            "gridwidth": 2,
            "linecolor": "white",
            "showbackground": true,
            "ticks": "",
            "zerolinecolor": "white"
           }
          },
          "shapedefaults": {
           "line": {
            "color": "#2a3f5f"
           }
          },
          "ternary": {
           "aaxis": {
            "gridcolor": "white",
            "linecolor": "white",
            "ticks": ""
           },
           "baxis": {
            "gridcolor": "white",
            "linecolor": "white",
            "ticks": ""
           },
           "bgcolor": "#E5ECF6",
           "caxis": {
            "gridcolor": "white",
            "linecolor": "white",
            "ticks": ""
           }
          },
          "title": {
           "x": 0.05
          },
          "xaxis": {
           "automargin": true,
           "gridcolor": "white",
           "linecolor": "white",
           "ticks": "",
           "title": {
            "standoff": 15
           },
           "zerolinecolor": "white",
           "zerolinewidth": 2
          },
          "yaxis": {
           "automargin": true,
           "gridcolor": "white",
           "linecolor": "white",
           "ticks": "",
           "title": {
            "standoff": 15
           },
           "zerolinecolor": "white",
           "zerolinewidth": 2
          }
         }
        },
        "xaxis": {
         "anchor": "y",
         "domain": [
          0,
          1
         ],
         "range": [
          0,
          15000
         ],
         "showgrid": false,
         "title": {
          "text": "pos_x"
         }
        },
        "yaxis": {
         "anchor": "x",
         "domain": [
          0,
          1
         ],
         "title": {
          "text": "pos_y"
         }
        }
       }
      }
     },
     "metadata": {},
     "output_type": "display_data"
    }
   ],
   "source": [
    "fig = px.scatter(all_wards, x='pos_x', y='pos_y')\n",
    "# Add image\n",
    "img_width = 1600\n",
    "img_height = 900\n",
    "scale_factor = 0.5\n",
    "\n",
    "background_image = go.layout.Image(\n",
    "        source=\"LoL-minimap.jpg\"\n",
    "        x=0,\n",
    "        sizex=img_width,\n",
    "        y=0,\n",
    "        sizey=img_height,\n",
    "        xref=\"x\",\n",
    "        yref=\"y\",\n",
    "        opacity=1.0,\n",
    "        layer=\"below\",\n",
    ")\n",
    "fig.update_layout(images=[background_image])\n",
    "\n",
    "fig.update_xaxes(showgrid=False, range=(0, 15_000))\n",
    "fig.show()"
   ]
  },
  {
   "cell_type": "code",
   "execution_count": null,
   "metadata": {},
   "outputs": [],
   "source": []
  }
 ],
 "metadata": {
  "kernelspec": {
   "display_name": "env",
   "language": "python",
   "name": "python3"
  },
  "language_info": {
   "codemirror_mode": {
    "name": "ipython",
    "version": 3
   },
   "file_extension": ".py",
   "mimetype": "text/x-python",
   "name": "python",
   "nbconvert_exporter": "python",
   "pygments_lexer": "ipython3",
   "version": "3.11.5"
  }
 },
 "nbformat": 4,
 "nbformat_minor": 2
}
